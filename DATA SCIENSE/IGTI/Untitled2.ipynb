{
 "cells": [
  {
   "cell_type": "code",
   "execution_count": 2,
   "id": "e566f96d",
   "metadata": {},
   "outputs": [
    {
     "name": "stdout",
     "output_type": "stream",
     "text": [
      "Requirement already satisfied: pip in c:\\users\\wande\\onedrive\\área de trabalho\\mba\\1 - bootcamp arquiteto(a) de big data\\modulo 2 - coleta e obtenção de dados\\atividade\\env\\coleta_dados\\lib\\site-packages (23.1.2)\n",
      "Note: you may need to restart the kernel to use updated packages.\n"
     ]
    }
   ],
   "source": [
    "pip install --upgrade pip"
   ]
  },
  {
   "cell_type": "code",
   "execution_count": 3,
   "id": "30b226c8",
   "metadata": {},
   "outputs": [
    {
     "name": "stdout",
     "output_type": "stream",
     "text": [
      "Requirement already satisfied: pandas in c:\\users\\wande\\appdata\\local\\programs\\python\\python39\\lib\\site-packages (2.0.1)\n",
      "Requirement already satisfied: tzdata>=2022.1 in c:\\users\\wande\\appdata\\local\\programs\\python\\python39\\lib\\site-packages (from pandas) (2023.3)\n",
      "Requirement already satisfied: pytz>=2020.1 in c:\\users\\wande\\appdata\\local\\programs\\python\\python39\\lib\\site-packages (from pandas) (2023.3)\n",
      "Requirement already satisfied: numpy>=1.20.3; python_version < \"3.10\" in c:\\users\\wande\\appdata\\local\\programs\\python\\python39\\lib\\site-packages (from pandas) (1.24.3)\n",
      "Requirement already satisfied: python-dateutil>=2.8.2 in c:\\users\\wande\\appdata\\local\\programs\\python\\python39\\lib\\site-packages (from pandas) (2.8.2)\n",
      "Requirement already satisfied: six>=1.5 in c:\\users\\wande\\appdata\\local\\programs\\python\\python39\\lib\\site-packages (from python-dateutil>=2.8.2->pandas) (1.16.0)\n"
     ]
    },
    {
     "name": "stderr",
     "output_type": "stream",
     "text": [
      "WARNING: You are using pip version 20.2.3; however, version 23.1.2 is available.\n",
      "You should consider upgrading via the 'c:\\users\\wande\\appdata\\local\\programs\\python\\python39\\python.exe -m pip install --upgrade pip' command.\n"
     ]
    }
   ],
   "source": [
    "!pip install pandas"
   ]
  },
  {
   "cell_type": "code",
   "execution_count": 4,
   "id": "832a8270",
   "metadata": {},
   "outputs": [],
   "source": [
    "import pandas as pd"
   ]
  },
  {
   "cell_type": "code",
   "execution_count": 5,
   "id": "3678126d",
   "metadata": {},
   "outputs": [],
   "source": [
    "csv_file = 'C:/Users/Wande/IGTI/AAPL.csv'"
   ]
  },
  {
   "cell_type": "code",
   "execution_count": 6,
   "id": "262d466d",
   "metadata": {},
   "outputs": [],
   "source": [
    "df_AAPL = pd.read_csv(csv_file)"
   ]
  },
  {
   "cell_type": "code",
   "execution_count": 7,
   "id": "6b59760a",
   "metadata": {},
   "outputs": [],
   "source": [
    "num_registros = df_AAPL.shape[0]"
   ]
  },
  {
   "cell_type": "code",
   "execution_count": 8,
   "id": "41ca89dc",
   "metadata": {},
   "outputs": [
    {
     "name": "stdout",
     "output_type": "stream",
     "text": [
      "Número de registros: 1259\n"
     ]
    }
   ],
   "source": [
    "print(\"Número de registros:\", num_registros)"
   ]
  },
  {
   "cell_type": "code",
   "execution_count": 10,
   "id": "94891278",
   "metadata": {},
   "outputs": [],
   "source": [
    "informacoes_APPL = df_AAPL.nunique()"
   ]
  },
  {
   "cell_type": "code",
   "execution_count": 11,
   "id": "686de26b",
   "metadata": {},
   "outputs": [
    {
     "name": "stdout",
     "output_type": "stream",
     "text": [
      "date      1259\n",
      "open      1188\n",
      "high      1195\n",
      "low       1192\n",
      "close     1185\n",
      "volume    1259\n",
      "Name         1\n",
      "dtype: int64\n"
     ]
    }
   ],
   "source": [
    "print(informacoes_APPL)"
   ]
  },
  {
   "cell_type": "code",
   "execution_count": null,
   "id": "1d236510",
   "metadata": {},
   "outputs": [],
   "source": []
  }
 ],
 "metadata": {
  "kernelspec": {
   "display_name": "coleta_dados",
   "language": "python",
   "name": "coleta_dados"
  },
  "language_info": {
   "codemirror_mode": {
    "name": "ipython",
    "version": 3
   },
   "file_extension": ".py",
   "mimetype": "text/x-python",
   "name": "python",
   "nbconvert_exporter": "python",
   "pygments_lexer": "ipython3",
   "version": "3.9.0"
  }
 },
 "nbformat": 4,
 "nbformat_minor": 5
}
