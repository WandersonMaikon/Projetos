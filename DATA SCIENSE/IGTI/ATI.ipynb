{
 "cells": [
  {
   "cell_type": "code",
   "execution_count": 5,
   "id": "3c476754",
   "metadata": {},
   "outputs": [
    {
     "name": "stdout",
     "output_type": "stream",
     "text": [
      "Requirement already satisfied: pip in c:\\users\\wande\\onedrive\\área de trabalho\\mba\\1 - bootcamp arquiteto(a) de big data\\modulo 2 - coleta e obtenção de dados\\atividade\\env\\coleta_dados\\lib\\site-packages (23.0)Note: you may need to restart the kernel to use updated packages.\n",
      "\n",
      "Collecting pip\n",
      "  Downloading pip-23.1.2-py3-none-any.whl (2.1 MB)\n",
      "     ---------------------------------------- 0.0/2.1 MB ? eta -:--:--\n",
      "     - -------------------------------------- 0.1/2.1 MB 1.3 MB/s eta 0:00:02\n",
      "     ---- ----------------------------------- 0.2/2.1 MB 2.3 MB/s eta 0:00:01\n",
      "     --------- ------------------------------ 0.5/2.1 MB 3.4 MB/s eta 0:00:01\n",
      "     -------------------- ------------------- 1.0/2.1 MB 5.5 MB/s eta 0:00:01\n",
      "     ---------------------------------------  2.1/2.1 MB 8.8 MB/s eta 0:00:01\n",
      "     ---------------------------------------- 2.1/2.1 MB 8.2 MB/s eta 0:00:00\n",
      "Installing collected packages: pip\n",
      "  Attempting uninstall: pip\n",
      "    Found existing installation: pip 23.0\n",
      "    Uninstalling pip-23.0:\n",
      "      Successfully uninstalled pip-23.0\n",
      "Successfully installed pip-23.1.2\n"
     ]
    }
   ],
   "source": [
    "#Dar um upggrade\n",
    "pip install --upgrade pip"
   ]
  },
  {
   "cell_type": "code",
   "execution_count": 6,
   "id": "d7957f38",
   "metadata": {},
   "outputs": [
    {
     "name": "stdout",
     "output_type": "stream",
     "text": [
      "Requirement already satisfied: pandas in c:\\users\\wande\\appdata\\local\\programs\\python\\python39\\lib\\site-packages (2.0.1)\n",
      "Requirement already satisfied: tzdata>=2022.1 in c:\\users\\wande\\appdata\\local\\programs\\python\\python39\\lib\\site-packages (from pandas) (2023.3)\n",
      "Requirement already satisfied: python-dateutil>=2.8.2 in c:\\users\\wande\\appdata\\local\\programs\\python\\python39\\lib\\site-packages (from pandas) (2.8.2)\n",
      "Requirement already satisfied: pytz>=2020.1 in c:\\users\\wande\\appdata\\local\\programs\\python\\python39\\lib\\site-packages (from pandas) (2023.3)\n",
      "Requirement already satisfied: numpy>=1.20.3; python_version < \"3.10\" in c:\\users\\wande\\appdata\\local\\programs\\python\\python39\\lib\\site-packages (from pandas) (1.24.3)\n",
      "Requirement already satisfied: six>=1.5 in c:\\users\\wande\\appdata\\local\\programs\\python\\python39\\lib\\site-packages (from python-dateutil>=2.8.2->pandas) (1.16.0)\n"
     ]
    },
    {
     "name": "stderr",
     "output_type": "stream",
     "text": [
      "WARNING: You are using pip version 20.2.3; however, version 23.1.2 is available.\n",
      "You should consider upgrading via the 'c:\\users\\wande\\appdata\\local\\programs\\python\\python39\\python.exe -m pip install --upgrade pip' command.\n"
     ]
    }
   ],
   "source": [
    "#Instalar o pacote pandas\n",
    "!pip install pandas"
   ]
  },
  {
   "cell_type": "code",
   "execution_count": 7,
   "id": "db53a6ed",
   "metadata": {},
   "outputs": [],
   "source": [
    "#importar o pandas\n",
    "import pandas as pd"
   ]
  },
  {
   "cell_type": "code",
   "execution_count": 153,
   "id": "dba8cad2",
   "metadata": {},
   "outputs": [],
   "source": [
    "csv_file = 'C:/Users/Wande/IGTI/all_stocks_5yr.csv'"
   ]
  },
  {
   "cell_type": "code",
   "execution_count": 154,
   "id": "8cf62703",
   "metadata": {},
   "outputs": [],
   "source": [
    "df = pd.read_csv(csv_file)"
   ]
  },
  {
   "cell_type": "code",
   "execution_count": 148,
   "id": "27b1996c",
   "metadata": {},
   "outputs": [],
   "source": [
    "num_registros = df.shape[0]"
   ]
  },
  {
   "cell_type": "code",
   "execution_count": 149,
   "id": "0096a6f1",
   "metadata": {},
   "outputs": [
    {
     "name": "stdout",
     "output_type": "stream",
     "text": [
      "Número de registros: 619040\n"
     ]
    }
   ],
   "source": [
    "print(\"Número de registros:\", num_registros)"
   ]
  },
  {
   "cell_type": "code",
   "execution_count": 70,
   "id": "03a41281",
   "metadata": {},
   "outputs": [],
   "source": [
    "informacoes_distintas = df.nunique()"
   ]
  },
  {
   "cell_type": "code",
   "execution_count": 169,
   "id": "d513010c",
   "metadata": {},
   "outputs": [
    {
     "name": "stdout",
     "output_type": "stream",
     "text": [
      "A ação menos negociada em termos de volume de transações é: ['DHR' 'FTV' 'O' 'UA']\n"
     ]
    }
   ],
   "source": []
  },
  {
   "cell_type": "code",
   "execution_count": 168,
   "id": "6caef210",
   "metadata": {},
   "outputs": [
    {
     "name": "stdout",
     "output_type": "stream",
     "text": [
      "584118\n"
     ]
    }
   ],
   "source": [
    "print(indice_maior_volume)"
   ]
  },
  {
   "cell_type": "code",
   "execution_count": 185,
   "id": "4b0d9c70",
   "metadata": {},
   "outputs": [
    {
     "ename": "KeyError",
     "evalue": "(584118, 'date')",
     "output_type": "error",
     "traceback": [
      "\u001b[1;31m---------------------------------------------------------------------------\u001b[0m",
      "\u001b[1;31mKeyError\u001b[0m                                  Traceback (most recent call last)",
      "File \u001b[1;32m~\\OneDrive\\Área de Trabalho\\MBA\\1 - Bootcamp Arquiteto(a) de Big Data\\Modulo 2 - Coleta e Obtenção de Dados\\ATIVIDADE\\env\\coleta_dados\\lib\\site-packages\\pandas\\core\\indexes\\base.py:3802\u001b[0m, in \u001b[0;36mIndex.get_loc\u001b[1;34m(self, key, method, tolerance)\u001b[0m\n\u001b[0;32m   3801\u001b[0m \u001b[38;5;28;01mtry\u001b[39;00m:\n\u001b[1;32m-> 3802\u001b[0m     \u001b[38;5;28;01mreturn\u001b[39;00m \u001b[38;5;28;43mself\u001b[39;49m\u001b[38;5;241;43m.\u001b[39;49m\u001b[43m_engine\u001b[49m\u001b[38;5;241;43m.\u001b[39;49m\u001b[43mget_loc\u001b[49m\u001b[43m(\u001b[49m\u001b[43mcasted_key\u001b[49m\u001b[43m)\u001b[49m\n\u001b[0;32m   3803\u001b[0m \u001b[38;5;28;01mexcept\u001b[39;00m \u001b[38;5;167;01mKeyError\u001b[39;00m \u001b[38;5;28;01mas\u001b[39;00m err:\n",
      "File \u001b[1;32m~\\OneDrive\\Área de Trabalho\\MBA\\1 - Bootcamp Arquiteto(a) de Big Data\\Modulo 2 - Coleta e Obtenção de Dados\\ATIVIDADE\\env\\coleta_dados\\lib\\site-packages\\pandas\\_libs\\index.pyx:138\u001b[0m, in \u001b[0;36mpandas._libs.index.IndexEngine.get_loc\u001b[1;34m()\u001b[0m\n",
      "File \u001b[1;32m~\\OneDrive\\Área de Trabalho\\MBA\\1 - Bootcamp Arquiteto(a) de Big Data\\Modulo 2 - Coleta e Obtenção de Dados\\ATIVIDADE\\env\\coleta_dados\\lib\\site-packages\\pandas\\_libs\\index.pyx:165\u001b[0m, in \u001b[0;36mpandas._libs.index.IndexEngine.get_loc\u001b[1;34m()\u001b[0m\n",
      "File \u001b[1;32mpandas\\_libs\\hashtable_class_helper.pxi:5745\u001b[0m, in \u001b[0;36mpandas._libs.hashtable.PyObjectHashTable.get_item\u001b[1;34m()\u001b[0m\n",
      "File \u001b[1;32mpandas\\_libs\\hashtable_class_helper.pxi:5753\u001b[0m, in \u001b[0;36mpandas._libs.hashtable.PyObjectHashTable.get_item\u001b[1;34m()\u001b[0m\n",
      "\u001b[1;31mKeyError\u001b[0m: (584118, 'date')",
      "\nThe above exception was the direct cause of the following exception:\n",
      "\u001b[1;31mKeyError\u001b[0m                                  Traceback (most recent call last)",
      "Cell \u001b[1;32mIn[185], line 5\u001b[0m\n\u001b[0;32m      2\u001b[0m indice_maior_volume \u001b[38;5;241m=\u001b[39m df[\u001b[38;5;124m'\u001b[39m\u001b[38;5;124mvolume\u001b[39m\u001b[38;5;124m'\u001b[39m]\u001b[38;5;241m.\u001b[39midxmax()\n\u001b[0;32m      4\u001b[0m \u001b[38;5;66;03m# Obter a data correspondente ao índice do maior volume\u001b[39;00m\n\u001b[1;32m----> 5\u001b[0m dia_maior_volume \u001b[38;5;241m=\u001b[39m \u001b[43mdf\u001b[49m\u001b[43m[\u001b[49m\u001b[43mindice_maior_volume\u001b[49m\u001b[43m,\u001b[49m\u001b[43m \u001b[49m\u001b[38;5;124;43m'\u001b[39;49m\u001b[38;5;124;43mdate\u001b[39;49m\u001b[38;5;124;43m'\u001b[39;49m\u001b[43m]\u001b[49m\n\u001b[0;32m      7\u001b[0m \u001b[38;5;66;03m# Imprimir o dia com o maior volume de negociação\u001b[39;00m\n\u001b[0;32m      8\u001b[0m \u001b[38;5;28mprint\u001b[39m(\u001b[38;5;124m\"\u001b[39m\u001b[38;5;124mO dia com o maior volume de negociação é:\u001b[39m\u001b[38;5;124m\"\u001b[39m, dia_maior_volume)\n",
      "File \u001b[1;32m~\\OneDrive\\Área de Trabalho\\MBA\\1 - Bootcamp Arquiteto(a) de Big Data\\Modulo 2 - Coleta e Obtenção de Dados\\ATIVIDADE\\env\\coleta_dados\\lib\\site-packages\\pandas\\core\\frame.py:3807\u001b[0m, in \u001b[0;36mDataFrame.__getitem__\u001b[1;34m(self, key)\u001b[0m\n\u001b[0;32m   3805\u001b[0m \u001b[38;5;28;01mif\u001b[39;00m \u001b[38;5;28mself\u001b[39m\u001b[38;5;241m.\u001b[39mcolumns\u001b[38;5;241m.\u001b[39mnlevels \u001b[38;5;241m>\u001b[39m \u001b[38;5;241m1\u001b[39m:\n\u001b[0;32m   3806\u001b[0m     \u001b[38;5;28;01mreturn\u001b[39;00m \u001b[38;5;28mself\u001b[39m\u001b[38;5;241m.\u001b[39m_getitem_multilevel(key)\n\u001b[1;32m-> 3807\u001b[0m indexer \u001b[38;5;241m=\u001b[39m \u001b[38;5;28;43mself\u001b[39;49m\u001b[38;5;241;43m.\u001b[39;49m\u001b[43mcolumns\u001b[49m\u001b[38;5;241;43m.\u001b[39;49m\u001b[43mget_loc\u001b[49m\u001b[43m(\u001b[49m\u001b[43mkey\u001b[49m\u001b[43m)\u001b[49m\n\u001b[0;32m   3808\u001b[0m \u001b[38;5;28;01mif\u001b[39;00m is_integer(indexer):\n\u001b[0;32m   3809\u001b[0m     indexer \u001b[38;5;241m=\u001b[39m [indexer]\n",
      "File \u001b[1;32m~\\OneDrive\\Área de Trabalho\\MBA\\1 - Bootcamp Arquiteto(a) de Big Data\\Modulo 2 - Coleta e Obtenção de Dados\\ATIVIDADE\\env\\coleta_dados\\lib\\site-packages\\pandas\\core\\indexes\\base.py:3804\u001b[0m, in \u001b[0;36mIndex.get_loc\u001b[1;34m(self, key, method, tolerance)\u001b[0m\n\u001b[0;32m   3802\u001b[0m     \u001b[38;5;28;01mreturn\u001b[39;00m \u001b[38;5;28mself\u001b[39m\u001b[38;5;241m.\u001b[39m_engine\u001b[38;5;241m.\u001b[39mget_loc(casted_key)\n\u001b[0;32m   3803\u001b[0m \u001b[38;5;28;01mexcept\u001b[39;00m \u001b[38;5;167;01mKeyError\u001b[39;00m \u001b[38;5;28;01mas\u001b[39;00m err:\n\u001b[1;32m-> 3804\u001b[0m     \u001b[38;5;28;01mraise\u001b[39;00m \u001b[38;5;167;01mKeyError\u001b[39;00m(key) \u001b[38;5;28;01mfrom\u001b[39;00m \u001b[38;5;21;01merr\u001b[39;00m\n\u001b[0;32m   3805\u001b[0m \u001b[38;5;28;01mexcept\u001b[39;00m \u001b[38;5;167;01mTypeError\u001b[39;00m:\n\u001b[0;32m   3806\u001b[0m     \u001b[38;5;66;03m# If we have a listlike key, _check_indexing_error will raise\u001b[39;00m\n\u001b[0;32m   3807\u001b[0m     \u001b[38;5;66;03m#  InvalidIndexError. Otherwise we fall through and re-raise\u001b[39;00m\n\u001b[0;32m   3808\u001b[0m     \u001b[38;5;66;03m#  the TypeError.\u001b[39;00m\n\u001b[0;32m   3809\u001b[0m     \u001b[38;5;28mself\u001b[39m\u001b[38;5;241m.\u001b[39m_check_indexing_error(key)\n",
      "\u001b[1;31mKeyError\u001b[0m: (584118, 'date')"
     ]
    }
   ],
   "source": [
    "# Encontrar o índice do dia com o maior volume de negociação\n",
    "indice_maior_volume = df['volume'].idxmax()\n",
    "\n",
    "# Obter a data correspondente ao índice do maior volume\n",
    "dia_maior_volume = df[indice_maior_volume, 'date']\n",
    "\n",
    "# Imprimir o dia com o maior volume de negociação\n",
    "print(\"O dia com o maior volume de negociação é:\", dia_maior_volume)\n"
   ]
  },
  {
   "cell_type": "code",
   "execution_count": 186,
   "id": "0b9f33d1",
   "metadata": {
    "scrolled": true
   },
   "outputs": [
    {
     "name": "stdout",
     "output_type": "stream",
     "text": [
      "date        1259\n",
      "open       49715\n",
      "high       81499\n",
      "low        82354\n",
      "close      51151\n",
      "volume    586441\n",
      "Name         505\n",
      "dtype: int64\n"
     ]
    }
   ],
   "source": [
    "print(informacoes_distintas)"
   ]
  },
  {
   "cell_type": "code",
   "execution_count": 187,
   "id": "27e065d3",
   "metadata": {},
   "outputs": [
    {
     "name": "stdout",
     "output_type": "stream",
     "text": [
      "584118\n"
     ]
    }
   ],
   "source": [
    "# Encontrar o índice do dia com o maior volume de negociação\n",
    "indice_maior_volume = df['volume'].idxmax()\n",
    "\n",
    "print(indice_maior_volume)"
   ]
  },
  {
   "cell_type": "code",
   "execution_count": 86,
   "id": "a8e5487b",
   "metadata": {},
   "outputs": [
    {
     "name": "stdout",
     "output_type": "stream",
     "text": [
      "['AAL', 'NRG', 'NOC', 'NLSN', 'NKE', 'NI', 'NFX', 'NFLX', 'NEM', 'NEE', 'NDAQ', 'NCLH', 'NBL', 'M', 'MYL', 'MU', 'MTD', 'MTB', 'MS', 'MSI', 'MSFT', 'MRO', 'MRK', 'MPC', 'MO', 'MOS', 'MON', 'MNST', 'MMM', 'NOV', 'NSC', 'PNW', 'NTAP', 'PNC', 'PM', 'PLD', 'PKI', 'PKG', 'PH', 'PHM', 'PG', 'PGR', 'PFG', 'PFE', 'PEP', 'PEG', 'PDCO', 'PCLN', 'PCG', 'PCAR', 'PBCT', 'PAYX', 'OXY', 'ORLY', 'OMC', 'OKE', 'NWL', 'NVDA', 'NUE', 'NTRS', 'MMC', 'MLM', 'MKC', 'MHK', 'K', 'KSU', 'KSS', 'KR', 'KO', 'KORS', 'KMX', 'KMI', 'KMB', 'KLAC', 'KIM', 'KEY', 'JWN', 'JPM', 'JNPR', 'JNJ', 'JEC', 'JCI', 'JBHT', 'IVZ', 'IT', 'ITW', 'ISRG', 'IR', 'AAPL', 'IP', 'IPG', 'LB', 'LEG', 'LEN', 'MAC', 'MGM', 'MET', 'MDT', 'MDLZ', 'MCO', 'MCK', 'MCHP', 'MCD', 'MA', 'MAT', 'MAS', 'MAR', 'MAA', 'LH', 'L', 'LYB', 'LUV', 'LUK', 'LRCX', 'LOW', 'LNT', 'LNC', 'LMT', 'LLY', 'LLL', 'LKQ', 'PNR', 'PPG', 'INTC', 'VRSK', 'VMC', 'VLO', 'VIAB', 'VFC', 'VAR', 'UTX', 'USB', 'URI', 'UPS', 'UNP', 'UNM', 'UNH', 'ULTA', 'UHS', 'UDR', 'UAL', 'UAA', 'T', 'TXT', 'TXN', 'TWX', 'TSS', 'TSN', 'TSCO', 'TRV', 'TROW', 'TRIP', 'VNO', 'VRSN', 'PPL', 'VRTX', 'ZION', 'ZBH', 'YUM', 'XYL', 'XRX', 'XRAY', 'XOM', 'XL', 'XLNX', 'XEL', 'XEC', 'WY', 'WYN', 'WYNN', 'WU', 'WM', 'WMT', 'WMB', 'WHR', 'WFC', 'WEC', 'WDC', 'WBA', 'WAT', 'V', 'VZ', 'VTR', 'TPR', 'TMO', 'TMK', 'TJX', 'SBUX', 'SBAC', 'RTN', 'RSG', 'RRC', 'ROST', 'ROP', 'ROK', 'RMD', 'RL', 'RJF', 'RHT', 'RHI', 'RF', 'RE', 'REG', 'REGN', 'RCL', 'QCOM', 'PX', 'PXD', 'PWR', 'PVH', 'PSX', 'PSA', 'PRU', 'PRGO', 'SCG', 'SCHW', 'SEE', 'STT', 'TIF', 'TGT', 'TEL', 'TDG', 'TAP', 'SYY', 'SYMC', 'SYK', 'SWK', 'SWKS', 'STZ', 'STX', 'STI', 'SHW', 'SRE', 'SRCL', 'SPG', 'SPGI', 'SO', 'SNPS', 'SNI', 'SNA', 'SLG', 'SLB', 'SJM', 'SIG', 'INTU', 'IRM', 'CTXS', 'CINF', 'CHRW', 'CHK', 'CHD', 'CF', 'CERN', 'CELG', 'CDNS', 'CCL', 'CCI', 'CB', 'CBS', 'CBOE', 'CBG', 'CA', 'CAT', 'CAH', 'CAG', 'BXP', 'BWA', 'BSX', 'BRK.B', 'BLL', 'BLK', 'BK', 'BIIB', 'BF.B', 'BEN', 'CHTR', 'CI', 'DE', 'CLX', 'C', 'CXO', 'CVX', 'CVS', 'INCY', 'CTSH', 'CTL', 'CTAS', 'CSX', 'CSCO', 'CRM', 'CPB', 'COST', 'COP', 'COO', 'COL', 'COG', 'COF', 'CNP', 'CNC', 'CMS', 'CMI', 'CMG', 'CME', 'CMCSA', 'CMA', 'CL', 'BDX', 'BBY', 'BBT', 'BA', 'ALXN', 'ALL', 'ALK', 'ALGN', 'ALB', 'AKAM', 'AJG', 'AIZ', 'AIV', 'AIG', 'AGN', 'AFL', 'AET', 'AES', 'AEP', 'AEE', 'ADS', 'ADSK', 'ADP', 'ADM', 'ADI', 'ADBE', 'ACN', 'ABT', 'ABC', 'ABBV', 'AAP', 'AMAT', 'AMD', 'AME', 'ARE', 'BAX', 'BAC', 'A', 'AZO', 'AYI', 'AXP', 'AWK', 'AVY', 'AVGO', 'AVB', 'ATVI', 'ARNC', 'APH', 'AMGN', 'APD', 'APC', 'APA', 'AOS', 'AON', 'ANTM', 'ANSS', 'ANDV', 'AMZN', 'AMT', 'AMP', 'AMG', 'DAL', 'ZTS', 'DFS', 'F', 'GRMN', 'GPS', 'GPN', 'GPC', 'GOOGL', 'GM', 'GLW', 'GIS', 'GILD', 'GGP', 'GE', 'GD', 'FTI', 'FB', 'FRT', 'FMC', 'FL', 'FLS', 'FLR', 'FLIR', 'FITB', 'FIS', 'DGX', 'FFIV', 'FE', 'FDX', 'GS', 'GT', 'GWW', 'HAL', 'ILMN', 'IFF', 'IDXX', 'IBM', 'HUM', 'HSY', 'HST', 'HSIC', 'HRS', 'HRL', 'HRB', 'HP', 'HON', 'HOLX', 'HOG', 'HII', 'HIG', 'HES', 'HD', 'HCP', 'HCN', 'HCA', 'HBI', 'HBAN', 'HAS', 'FCX', 'FISV', 'EA', 'EL', 'EQR', 'DPS', 'EQIX', 'EOG', 'DRE', 'DRI', 'EMR', 'EMN', 'EIX', 'DVA', 'EFX', 'ED', 'ECL', 'EBAY', 'FBHS', 'D', 'DTE', 'DUK', 'EQT', 'DOV', 'ESRX', 'DLTR', 'DG', 'FAST', 'EXR', 'EXPE', 'DHI', 'DISCA', 'EXPD', 'EXC', 'EW', 'DISCK', 'ETR', 'ETN', 'ETFC', 'DISH', 'ESS', 'DIS', 'DLR', 'DVN', 'ORCL', 'BMY', 'ICE', 'ES', 'DHR', 'O', 'IQV', 'COTY', 'NWSA', 'FOXA', 'FOX', 'NWS', 'ALLE', 'GOOG', 'NAVI', 'INFO', 'SYF', 'CFG', 'QRVO', 'WRK', 'KHC', 'PYPL', 'HPE', 'HPQ', 'CSRA', 'WLTW', 'UA', 'FTV', 'EVHC', 'HLT', 'DXC', 'BHGE', 'BHF', 'DWDP', 'APTV']\n"
     ]
    }
   ],
   "source": [
    "nomes_unicos = df['Name'].value_counts().index.tolist()\n",
    "print(nomes_unicos)"
   ]
  },
  {
   "cell_type": "code",
   "execution_count": 143,
   "id": "3034e19f",
   "metadata": {},
   "outputs": [],
   "source": [
    "nomes_com_a = df.loc[df['Name'].str.startswith('A'), 'Name'].unique()"
   ]
  },
  {
   "cell_type": "code",
   "execution_count": 145,
   "id": "7325e12f",
   "metadata": {},
   "outputs": [
    {
     "name": "stdout",
     "output_type": "stream",
     "text": [
      "O dia com o maior volume de negociação é: 2014-02-24\n"
     ]
    }
   ],
   "source": []
  },
  {
   "cell_type": "code",
   "execution_count": 144,
   "id": "55daefe1",
   "metadata": {},
   "outputs": [
    {
     "name": "stdout",
     "output_type": "stream",
     "text": [
      "['AAL' 'AAPL' 'AAP' 'ABBV' 'ABC' 'ABT' 'ACN' 'ADBE' 'ADI' 'ADM' 'ADP'\n",
      " 'ADSK' 'ADS' 'AEE' 'AEP' 'AES' 'AET' 'AFL' 'AGN' 'AIG' 'AIV' 'AIZ' 'AJG'\n",
      " 'AKAM' 'ALB' 'ALGN' 'ALK' 'ALLE' 'ALL' 'ALXN' 'AMAT' 'AMD' 'AME' 'AMGN'\n",
      " 'AMG' 'AMP' 'AMT' 'AMZN' 'ANDV' 'ANSS' 'ANTM' 'AON' 'AOS' 'APA' 'APC'\n",
      " 'APD' 'APH' 'APTV' 'ARE' 'ARNC' 'ATVI' 'AVB' 'AVGO' 'AVY' 'AWK' 'AXP'\n",
      " 'AYI' 'AZO' 'A']\n"
     ]
    }
   ],
   "source": [
    "print(nomes_com_a)"
   ]
  },
  {
   "cell_type": "code",
   "execution_count": 107,
   "id": "c29b0d0f",
   "metadata": {},
   "outputs": [
    {
     "name": "stdout",
     "output_type": "stream",
     "text": [
      "['AAL' 'AAPL' 'AAP' 'ABBV' 'ABC' 'ABT' 'ACN' 'ADBE' 'ADI' 'ADM' 'ADP'\n",
      " 'ADSK' 'ADS' 'AEE' 'AEP' 'AES' 'AET' 'AFL' 'AGN' 'AIG' 'AIV' 'AIZ' 'AJG'\n",
      " 'AKAM' 'ALB' 'ALGN' 'ALK' 'ALLE' 'ALL' 'ALXN' 'AMAT' 'AMD' 'AME' 'AMGN'\n",
      " 'AMG' 'AMP' 'AMT' 'AMZN' 'ANDV' 'ANSS' 'ANTM' 'AON' 'AOS' 'APA' 'APC'\n",
      " 'APD' 'APH' 'APTV' 'ARE' 'ARNC' 'ATVI' 'AVB' 'AVGO' 'AVY' 'AWK' 'AXP'\n",
      " 'AYI' 'AZO' 'A']\n"
     ]
    }
   ],
   "source": [
    "print(nomes_com_a)"
   ]
  },
  {
   "cell_type": "code",
   "execution_count": 123,
   "id": "d790e65d",
   "metadata": {},
   "outputs": [],
   "source": [
    "contagem_nomes_com_a = df.loc[df['Name'].str.startswith('A'), 'Name'].value_counts().unique()"
   ]
  },
  {
   "cell_type": "code",
   "execution_count": 124,
   "id": "fadaa5db",
   "metadata": {},
   "outputs": [
    {
     "name": "stdout",
     "output_type": "stream",
     "text": [
      "[1259 1063   44]\n"
     ]
    }
   ],
   "source": [
    "print(contagem_nomes_com_a)"
   ]
  },
  {
   "cell_type": "code",
   "execution_count": 88,
   "id": "e9fd5200",
   "metadata": {},
   "outputs": [],
   "source": [
    "contagem_nomes = df_filtrado['Name'].value_counts()"
   ]
  },
  {
   "cell_type": "code",
   "execution_count": 89,
   "id": "8df8cb84",
   "metadata": {},
   "outputs": [
    {
     "name": "stdout",
     "output_type": "stream",
     "text": [
      "AAPL    1259\n",
      "Name: Name, dtype: int64\n"
     ]
    }
   ],
   "source": [
    "print(contagem_nomes)"
   ]
  },
  {
   "cell_type": "code",
   "execution_count": 74,
   "id": "0cb55cd6",
   "metadata": {},
   "outputs": [
    {
     "name": "stdout",
     "output_type": "stream",
     "text": [
      "            date      open      high       low     close     volume  Name\n",
      "1259  2013-02-08   67.7142   68.4014   66.8928   67.8542  158168416  AAPL\n",
      "1260  2013-02-11   68.0714   69.2771   67.6071   68.5614  129029425  AAPL\n",
      "1261  2013-02-12   68.5014   68.9114   66.8205   66.8428  151829363  AAPL\n",
      "1262  2013-02-13   66.7442   67.6628   66.1742   66.7156  118721995  AAPL\n",
      "1263  2013-02-14   66.3599   67.3771   66.2885   66.6556   88809154  AAPL\n",
      "...          ...       ...       ...       ...       ...        ...   ...\n",
      "2513  2018-02-01  167.1650  168.6200  166.7600  167.7800   47230787  AAPL\n",
      "2514  2018-02-02  166.0000  166.8000  160.1000  160.5000   86593825  AAPL\n",
      "2515  2018-02-05  159.1000  163.8800  156.0000  156.4900   72738522  AAPL\n",
      "2516  2018-02-06  154.8300  163.7200  154.0000  163.0300   68243838  AAPL\n",
      "2517  2018-02-07  163.0850  163.4000  159.0685  159.5400   51608580  AAPL\n",
      "\n",
      "[1259 rows x 7 columns]\n"
     ]
    }
   ],
   "source": [
    "# Definir o valor desejado na coluna \"Name\"\n",
    "nome_desejado = 'AAPL'\n",
    "\n",
    "# Filtrar o DataFrame para o valor desejado na coluna \"Name\"\n",
    "df_filtrado = df.loc[df['Name'] == nome_desejado]\n",
    "\n",
    "print (df_filtrado)"
   ]
  },
  {
   "cell_type": "code",
   "execution_count": 76,
   "id": "8d0fda9b",
   "metadata": {},
   "outputs": [],
   "source": [
    "# Obter o valor máximo da coluna \"High\" no DataFrame filtrado\n",
    "valor_maximo_high = df_filtrado['high'].max()"
   ]
  },
  {
   "cell_type": "code",
   "execution_count": 77,
   "id": "379715c1",
   "metadata": {},
   "outputs": [
    {
     "name": "stdout",
     "output_type": "stream",
     "text": [
      "180.1\n"
     ]
    }
   ],
   "source": [
    "# Imprimir o valor máximo de \"High\"\n",
    "print(valor_maximo_high)"
   ]
  },
  {
   "cell_type": "code",
   "execution_count": null,
   "id": "6b68d0ee",
   "metadata": {},
   "outputs": [],
   "source": []
  },
  {
   "cell_type": "code",
   "execution_count": 20,
   "id": "85111cc6",
   "metadata": {},
   "outputs": [],
   "source": [
    "df['Fechamento_Maior_Que_Abertura'] = df['close'] > df['open']"
   ]
  },
  {
   "cell_type": "code",
   "execution_count": null,
   "id": "6c8e1791",
   "metadata": {},
   "outputs": [],
   "source": [
    "#Descobrir o maior valor do AAPL"
   ]
  },
  {
   "cell_type": "code",
   "execution_count": 62,
   "id": "3f810d05",
   "metadata": {},
   "outputs": [
    {
     "name": "stdout",
     "output_type": "stream",
     "text": [
      "0         \n",
      "1    Maria\n",
      "2    Pedro\n",
      "3    Maria\n",
      "4      Ana\n",
      "Name: name, dtype: object\n"
     ]
    }
   ],
   "source": [
    "# Criar um DataFrame de exemplo\n",
    "df = pd.DataFrame({'name': ['', 'Maria', 'Pedro', 'Maria', 'Ana']})\n",
    "\n",
    "# Exibir os dados da coluna \"name\"\n",
    "print(df['name'])"
   ]
  },
  {
   "cell_type": "code",
   "execution_count": 53,
   "id": "a77c906b",
   "metadata": {},
   "outputs": [],
   "source": [
    "df_unique = df.drop_duplicates()"
   ]
  },
  {
   "cell_type": "code",
   "execution_count": 54,
   "id": "aeaa0623",
   "metadata": {},
   "outputs": [],
   "source": [
    "grupos = df_unique.groupby('Informação')"
   ]
  },
  {
   "cell_type": "code",
   "execution_count": 55,
   "id": "d65c52cb",
   "metadata": {},
   "outputs": [
    {
     "name": "stdout",
     "output_type": "stream",
     "text": [
      "Grupo: A\n",
      "  Informação\n",
      "0          A\n",
      "\n",
      "Grupo: B\n",
      "  Informação\n",
      "1          B\n",
      "\n",
      "Grupo: C\n",
      "  Informação\n",
      "3          C\n",
      "\n",
      "Grupo: D\n",
      "  Informação\n",
      "5          D\n",
      "\n"
     ]
    }
   ],
   "source": [
    "for nome_grupo, grupo in grupos:\n",
    "    print(f\"Grupo: {nome_grupo}\")\n",
    "    print(grupo)\n",
    "    print()"
   ]
  },
  {
   "cell_type": "code",
   "execution_count": 56,
   "id": "0c640117",
   "metadata": {},
   "outputs": [
    {
     "ename": "KeyError",
     "evalue": "'AAPL'",
     "output_type": "error",
     "traceback": [
      "\u001b[1;31m---------------------------------------------------------------------------\u001b[0m",
      "\u001b[1;31mKeyError\u001b[0m                                  Traceback (most recent call last)",
      "File \u001b[1;32m~\\OneDrive\\Área de Trabalho\\MBA\\1 - Bootcamp Arquiteto(a) de Big Data\\Modulo 2 - Coleta e Obtenção de Dados\\ATIVIDADE\\env\\coleta_dados\\lib\\site-packages\\pandas\\core\\indexes\\base.py:3802\u001b[0m, in \u001b[0;36mIndex.get_loc\u001b[1;34m(self, key, method, tolerance)\u001b[0m\n\u001b[0;32m   3801\u001b[0m \u001b[38;5;28;01mtry\u001b[39;00m:\n\u001b[1;32m-> 3802\u001b[0m     \u001b[38;5;28;01mreturn\u001b[39;00m \u001b[38;5;28;43mself\u001b[39;49m\u001b[38;5;241;43m.\u001b[39;49m\u001b[43m_engine\u001b[49m\u001b[38;5;241;43m.\u001b[39;49m\u001b[43mget_loc\u001b[49m\u001b[43m(\u001b[49m\u001b[43mcasted_key\u001b[49m\u001b[43m)\u001b[49m\n\u001b[0;32m   3803\u001b[0m \u001b[38;5;28;01mexcept\u001b[39;00m \u001b[38;5;167;01mKeyError\u001b[39;00m \u001b[38;5;28;01mas\u001b[39;00m err:\n",
      "File \u001b[1;32m~\\OneDrive\\Área de Trabalho\\MBA\\1 - Bootcamp Arquiteto(a) de Big Data\\Modulo 2 - Coleta e Obtenção de Dados\\ATIVIDADE\\env\\coleta_dados\\lib\\site-packages\\pandas\\_libs\\index.pyx:138\u001b[0m, in \u001b[0;36mpandas._libs.index.IndexEngine.get_loc\u001b[1;34m()\u001b[0m\n",
      "File \u001b[1;32m~\\OneDrive\\Área de Trabalho\\MBA\\1 - Bootcamp Arquiteto(a) de Big Data\\Modulo 2 - Coleta e Obtenção de Dados\\ATIVIDADE\\env\\coleta_dados\\lib\\site-packages\\pandas\\_libs\\index.pyx:165\u001b[0m, in \u001b[0;36mpandas._libs.index.IndexEngine.get_loc\u001b[1;34m()\u001b[0m\n",
      "File \u001b[1;32mpandas\\_libs\\hashtable_class_helper.pxi:5745\u001b[0m, in \u001b[0;36mpandas._libs.hashtable.PyObjectHashTable.get_item\u001b[1;34m()\u001b[0m\n",
      "File \u001b[1;32mpandas\\_libs\\hashtable_class_helper.pxi:5753\u001b[0m, in \u001b[0;36mpandas._libs.hashtable.PyObjectHashTable.get_item\u001b[1;34m()\u001b[0m\n",
      "\u001b[1;31mKeyError\u001b[0m: 'AAPL'",
      "\nThe above exception was the direct cause of the following exception:\n",
      "\u001b[1;31mKeyError\u001b[0m                                  Traceback (most recent call last)",
      "Cell \u001b[1;32mIn[56], line 1\u001b[0m\n\u001b[1;32m----> 1\u001b[0m registros_procurados \u001b[38;5;241m=\u001b[39m df[\u001b[43mdf\u001b[49m\u001b[43m[\u001b[49m\u001b[43mnome_coluna\u001b[49m\u001b[43m]\u001b[49m \u001b[38;5;241m==\u001b[39m valor_procurado]\n",
      "File \u001b[1;32m~\\OneDrive\\Área de Trabalho\\MBA\\1 - Bootcamp Arquiteto(a) de Big Data\\Modulo 2 - Coleta e Obtenção de Dados\\ATIVIDADE\\env\\coleta_dados\\lib\\site-packages\\pandas\\core\\frame.py:3807\u001b[0m, in \u001b[0;36mDataFrame.__getitem__\u001b[1;34m(self, key)\u001b[0m\n\u001b[0;32m   3805\u001b[0m \u001b[38;5;28;01mif\u001b[39;00m \u001b[38;5;28mself\u001b[39m\u001b[38;5;241m.\u001b[39mcolumns\u001b[38;5;241m.\u001b[39mnlevels \u001b[38;5;241m>\u001b[39m \u001b[38;5;241m1\u001b[39m:\n\u001b[0;32m   3806\u001b[0m     \u001b[38;5;28;01mreturn\u001b[39;00m \u001b[38;5;28mself\u001b[39m\u001b[38;5;241m.\u001b[39m_getitem_multilevel(key)\n\u001b[1;32m-> 3807\u001b[0m indexer \u001b[38;5;241m=\u001b[39m \u001b[38;5;28;43mself\u001b[39;49m\u001b[38;5;241;43m.\u001b[39;49m\u001b[43mcolumns\u001b[49m\u001b[38;5;241;43m.\u001b[39;49m\u001b[43mget_loc\u001b[49m\u001b[43m(\u001b[49m\u001b[43mkey\u001b[49m\u001b[43m)\u001b[49m\n\u001b[0;32m   3808\u001b[0m \u001b[38;5;28;01mif\u001b[39;00m is_integer(indexer):\n\u001b[0;32m   3809\u001b[0m     indexer \u001b[38;5;241m=\u001b[39m [indexer]\n",
      "File \u001b[1;32m~\\OneDrive\\Área de Trabalho\\MBA\\1 - Bootcamp Arquiteto(a) de Big Data\\Modulo 2 - Coleta e Obtenção de Dados\\ATIVIDADE\\env\\coleta_dados\\lib\\site-packages\\pandas\\core\\indexes\\base.py:3804\u001b[0m, in \u001b[0;36mIndex.get_loc\u001b[1;34m(self, key, method, tolerance)\u001b[0m\n\u001b[0;32m   3802\u001b[0m     \u001b[38;5;28;01mreturn\u001b[39;00m \u001b[38;5;28mself\u001b[39m\u001b[38;5;241m.\u001b[39m_engine\u001b[38;5;241m.\u001b[39mget_loc(casted_key)\n\u001b[0;32m   3803\u001b[0m \u001b[38;5;28;01mexcept\u001b[39;00m \u001b[38;5;167;01mKeyError\u001b[39;00m \u001b[38;5;28;01mas\u001b[39;00m err:\n\u001b[1;32m-> 3804\u001b[0m     \u001b[38;5;28;01mraise\u001b[39;00m \u001b[38;5;167;01mKeyError\u001b[39;00m(key) \u001b[38;5;28;01mfrom\u001b[39;00m \u001b[38;5;21;01merr\u001b[39;00m\n\u001b[0;32m   3805\u001b[0m \u001b[38;5;28;01mexcept\u001b[39;00m \u001b[38;5;167;01mTypeError\u001b[39;00m:\n\u001b[0;32m   3806\u001b[0m     \u001b[38;5;66;03m# If we have a listlike key, _check_indexing_error will raise\u001b[39;00m\n\u001b[0;32m   3807\u001b[0m     \u001b[38;5;66;03m#  InvalidIndexError. Otherwise we fall through and re-raise\u001b[39;00m\n\u001b[0;32m   3808\u001b[0m     \u001b[38;5;66;03m#  the TypeError.\u001b[39;00m\n\u001b[0;32m   3809\u001b[0m     \u001b[38;5;28mself\u001b[39m\u001b[38;5;241m.\u001b[39m_check_indexing_error(key)\n",
      "\u001b[1;31mKeyError\u001b[0m: 'AAPL'"
     ]
    }
   ],
   "source": [
    "registros_procurados = df[df[nome_coluna] == valor_procurado]"
   ]
  },
  {
   "cell_type": "code",
   "execution_count": 57,
   "id": "86ef9807",
   "metadata": {},
   "outputs": [
    {
     "ename": "KeyError",
     "evalue": "'Fechamento_Maior_Que_Abertura'",
     "output_type": "error",
     "traceback": [
      "\u001b[1;31m---------------------------------------------------------------------------\u001b[0m",
      "\u001b[1;31mKeyError\u001b[0m                                  Traceback (most recent call last)",
      "File \u001b[1;32m~\\OneDrive\\Área de Trabalho\\MBA\\1 - Bootcamp Arquiteto(a) de Big Data\\Modulo 2 - Coleta e Obtenção de Dados\\ATIVIDADE\\env\\coleta_dados\\lib\\site-packages\\pandas\\core\\indexes\\base.py:3802\u001b[0m, in \u001b[0;36mIndex.get_loc\u001b[1;34m(self, key, method, tolerance)\u001b[0m\n\u001b[0;32m   3801\u001b[0m \u001b[38;5;28;01mtry\u001b[39;00m:\n\u001b[1;32m-> 3802\u001b[0m     \u001b[38;5;28;01mreturn\u001b[39;00m \u001b[38;5;28;43mself\u001b[39;49m\u001b[38;5;241;43m.\u001b[39;49m\u001b[43m_engine\u001b[49m\u001b[38;5;241;43m.\u001b[39;49m\u001b[43mget_loc\u001b[49m\u001b[43m(\u001b[49m\u001b[43mcasted_key\u001b[49m\u001b[43m)\u001b[49m\n\u001b[0;32m   3803\u001b[0m \u001b[38;5;28;01mexcept\u001b[39;00m \u001b[38;5;167;01mKeyError\u001b[39;00m \u001b[38;5;28;01mas\u001b[39;00m err:\n",
      "File \u001b[1;32m~\\OneDrive\\Área de Trabalho\\MBA\\1 - Bootcamp Arquiteto(a) de Big Data\\Modulo 2 - Coleta e Obtenção de Dados\\ATIVIDADE\\env\\coleta_dados\\lib\\site-packages\\pandas\\_libs\\index.pyx:138\u001b[0m, in \u001b[0;36mpandas._libs.index.IndexEngine.get_loc\u001b[1;34m()\u001b[0m\n",
      "File \u001b[1;32m~\\OneDrive\\Área de Trabalho\\MBA\\1 - Bootcamp Arquiteto(a) de Big Data\\Modulo 2 - Coleta e Obtenção de Dados\\ATIVIDADE\\env\\coleta_dados\\lib\\site-packages\\pandas\\_libs\\index.pyx:165\u001b[0m, in \u001b[0;36mpandas._libs.index.IndexEngine.get_loc\u001b[1;34m()\u001b[0m\n",
      "File \u001b[1;32mpandas\\_libs\\hashtable_class_helper.pxi:5745\u001b[0m, in \u001b[0;36mpandas._libs.hashtable.PyObjectHashTable.get_item\u001b[1;34m()\u001b[0m\n",
      "File \u001b[1;32mpandas\\_libs\\hashtable_class_helper.pxi:5753\u001b[0m, in \u001b[0;36mpandas._libs.hashtable.PyObjectHashTable.get_item\u001b[1;34m()\u001b[0m\n",
      "\u001b[1;31mKeyError\u001b[0m: 'Fechamento_Maior_Que_Abertura'",
      "\nThe above exception was the direct cause of the following exception:\n",
      "\u001b[1;31mKeyError\u001b[0m                                  Traceback (most recent call last)",
      "Cell \u001b[1;32mIn[57], line 1\u001b[0m\n\u001b[1;32m----> 1\u001b[0m frequencia \u001b[38;5;241m=\u001b[39m \u001b[43mdf\u001b[49m\u001b[43m[\u001b[49m\u001b[38;5;124;43m'\u001b[39;49m\u001b[38;5;124;43mFechamento_Maior_Que_Abertura\u001b[39;49m\u001b[38;5;124;43m'\u001b[39;49m\u001b[43m]\u001b[49m\u001b[38;5;241m.\u001b[39mvalue_counts(normalize\u001b[38;5;241m=\u001b[39m\u001b[38;5;28;01mTrue\u001b[39;00m)\n",
      "File \u001b[1;32m~\\OneDrive\\Área de Trabalho\\MBA\\1 - Bootcamp Arquiteto(a) de Big Data\\Modulo 2 - Coleta e Obtenção de Dados\\ATIVIDADE\\env\\coleta_dados\\lib\\site-packages\\pandas\\core\\frame.py:3807\u001b[0m, in \u001b[0;36mDataFrame.__getitem__\u001b[1;34m(self, key)\u001b[0m\n\u001b[0;32m   3805\u001b[0m \u001b[38;5;28;01mif\u001b[39;00m \u001b[38;5;28mself\u001b[39m\u001b[38;5;241m.\u001b[39mcolumns\u001b[38;5;241m.\u001b[39mnlevels \u001b[38;5;241m>\u001b[39m \u001b[38;5;241m1\u001b[39m:\n\u001b[0;32m   3806\u001b[0m     \u001b[38;5;28;01mreturn\u001b[39;00m \u001b[38;5;28mself\u001b[39m\u001b[38;5;241m.\u001b[39m_getitem_multilevel(key)\n\u001b[1;32m-> 3807\u001b[0m indexer \u001b[38;5;241m=\u001b[39m \u001b[38;5;28;43mself\u001b[39;49m\u001b[38;5;241;43m.\u001b[39;49m\u001b[43mcolumns\u001b[49m\u001b[38;5;241;43m.\u001b[39;49m\u001b[43mget_loc\u001b[49m\u001b[43m(\u001b[49m\u001b[43mkey\u001b[49m\u001b[43m)\u001b[49m\n\u001b[0;32m   3808\u001b[0m \u001b[38;5;28;01mif\u001b[39;00m is_integer(indexer):\n\u001b[0;32m   3809\u001b[0m     indexer \u001b[38;5;241m=\u001b[39m [indexer]\n",
      "File \u001b[1;32m~\\OneDrive\\Área de Trabalho\\MBA\\1 - Bootcamp Arquiteto(a) de Big Data\\Modulo 2 - Coleta e Obtenção de Dados\\ATIVIDADE\\env\\coleta_dados\\lib\\site-packages\\pandas\\core\\indexes\\base.py:3804\u001b[0m, in \u001b[0;36mIndex.get_loc\u001b[1;34m(self, key, method, tolerance)\u001b[0m\n\u001b[0;32m   3802\u001b[0m     \u001b[38;5;28;01mreturn\u001b[39;00m \u001b[38;5;28mself\u001b[39m\u001b[38;5;241m.\u001b[39m_engine\u001b[38;5;241m.\u001b[39mget_loc(casted_key)\n\u001b[0;32m   3803\u001b[0m \u001b[38;5;28;01mexcept\u001b[39;00m \u001b[38;5;167;01mKeyError\u001b[39;00m \u001b[38;5;28;01mas\u001b[39;00m err:\n\u001b[1;32m-> 3804\u001b[0m     \u001b[38;5;28;01mraise\u001b[39;00m \u001b[38;5;167;01mKeyError\u001b[39;00m(key) \u001b[38;5;28;01mfrom\u001b[39;00m \u001b[38;5;21;01merr\u001b[39;00m\n\u001b[0;32m   3805\u001b[0m \u001b[38;5;28;01mexcept\u001b[39;00m \u001b[38;5;167;01mTypeError\u001b[39;00m:\n\u001b[0;32m   3806\u001b[0m     \u001b[38;5;66;03m# If we have a listlike key, _check_indexing_error will raise\u001b[39;00m\n\u001b[0;32m   3807\u001b[0m     \u001b[38;5;66;03m#  InvalidIndexError. Otherwise we fall through and re-raise\u001b[39;00m\n\u001b[0;32m   3808\u001b[0m     \u001b[38;5;66;03m#  the TypeError.\u001b[39;00m\n\u001b[0;32m   3809\u001b[0m     \u001b[38;5;28mself\u001b[39m\u001b[38;5;241m.\u001b[39m_check_indexing_error(key)\n",
      "\u001b[1;31mKeyError\u001b[0m: 'Fechamento_Maior_Que_Abertura'"
     ]
    }
   ],
   "source": [
    "frequencia = df['Fechamento_Maior_Que_Abertura'].value_counts(normalize=True)"
   ]
  },
  {
   "cell_type": "code",
   "execution_count": 22,
   "id": "2af247db",
   "metadata": {},
   "outputs": [
    {
     "name": "stdout",
     "output_type": "stream",
     "text": [
      "True     0.515266\n",
      "False    0.484734\n",
      "Name: Fechamento_Maior_Que_Abertura, dtype: float64\n"
     ]
    }
   ],
   "source": [
    "print(frequencia)"
   ]
  },
  {
   "cell_type": "code",
   "execution_count": 31,
   "id": "8c1c614b",
   "metadata": {},
   "outputs": [],
   "source": [
    "csv_file = 'C:/Users/Wande/IGTI/AAPL.csv'"
   ]
  },
  {
   "cell_type": "code",
   "execution_count": 32,
   "id": "f3cdaf8f",
   "metadata": {
    "scrolled": true
   },
   "outputs": [],
   "source": [
    "df_AAPL = pd.read_csv(csv_file)"
   ]
  },
  {
   "cell_type": "code",
   "execution_count": 27,
   "id": "f213a447",
   "metadata": {},
   "outputs": [],
   "source": [
    "informacoes_APPL = df.nunique()"
   ]
  },
  {
   "cell_type": "code",
   "execution_count": 34,
   "id": "7672ceec",
   "metadata": {},
   "outputs": [
    {
     "name": "stdout",
     "output_type": "stream",
     "text": [
      "date                               1259\n",
      "open                              49715\n",
      "high                              81499\n",
      "low                               82354\n",
      "close                             51151\n",
      "volume                           586441\n",
      "Name                                505\n",
      "Fechamento_Maior_Que_Abertura         2\n",
      "dtype: int64\n"
     ]
    }
   ],
   "source": [
    "print(informacoes_APPL)"
   ]
  },
  {
   "cell_type": "code",
   "execution_count": 37,
   "id": "ce3d603f",
   "metadata": {},
   "outputs": [],
   "source": [
    "valor_procurado = 'AAPL'"
   ]
  },
  {
   "cell_type": "code",
   "execution_count": 38,
   "id": "7bc79efe",
   "metadata": {},
   "outputs": [
    {
     "ename": "KeyError",
     "evalue": "'AAPL'",
     "output_type": "error",
     "traceback": [
      "\u001b[1;31m---------------------------------------------------------------------------\u001b[0m",
      "\u001b[1;31mKeyError\u001b[0m                                  Traceback (most recent call last)",
      "File \u001b[1;32m~\\OneDrive\\Área de Trabalho\\MBA\\1 - Bootcamp Arquiteto(a) de Big Data\\Modulo 2 - Coleta e Obtenção de Dados\\ATIVIDADE\\env\\coleta_dados\\lib\\site-packages\\pandas\\core\\indexes\\base.py:3802\u001b[0m, in \u001b[0;36mIndex.get_loc\u001b[1;34m(self, key, method, tolerance)\u001b[0m\n\u001b[0;32m   3801\u001b[0m \u001b[38;5;28;01mtry\u001b[39;00m:\n\u001b[1;32m-> 3802\u001b[0m     \u001b[38;5;28;01mreturn\u001b[39;00m \u001b[38;5;28;43mself\u001b[39;49m\u001b[38;5;241;43m.\u001b[39;49m\u001b[43m_engine\u001b[49m\u001b[38;5;241;43m.\u001b[39;49m\u001b[43mget_loc\u001b[49m\u001b[43m(\u001b[49m\u001b[43mcasted_key\u001b[49m\u001b[43m)\u001b[49m\n\u001b[0;32m   3803\u001b[0m \u001b[38;5;28;01mexcept\u001b[39;00m \u001b[38;5;167;01mKeyError\u001b[39;00m \u001b[38;5;28;01mas\u001b[39;00m err:\n",
      "File \u001b[1;32m~\\OneDrive\\Área de Trabalho\\MBA\\1 - Bootcamp Arquiteto(a) de Big Data\\Modulo 2 - Coleta e Obtenção de Dados\\ATIVIDADE\\env\\coleta_dados\\lib\\site-packages\\pandas\\_libs\\index.pyx:138\u001b[0m, in \u001b[0;36mpandas._libs.index.IndexEngine.get_loc\u001b[1;34m()\u001b[0m\n",
      "File \u001b[1;32m~\\OneDrive\\Área de Trabalho\\MBA\\1 - Bootcamp Arquiteto(a) de Big Data\\Modulo 2 - Coleta e Obtenção de Dados\\ATIVIDADE\\env\\coleta_dados\\lib\\site-packages\\pandas\\_libs\\index.pyx:165\u001b[0m, in \u001b[0;36mpandas._libs.index.IndexEngine.get_loc\u001b[1;34m()\u001b[0m\n",
      "File \u001b[1;32mpandas\\_libs\\hashtable_class_helper.pxi:5745\u001b[0m, in \u001b[0;36mpandas._libs.hashtable.PyObjectHashTable.get_item\u001b[1;34m()\u001b[0m\n",
      "File \u001b[1;32mpandas\\_libs\\hashtable_class_helper.pxi:5753\u001b[0m, in \u001b[0;36mpandas._libs.hashtable.PyObjectHashTable.get_item\u001b[1;34m()\u001b[0m\n",
      "\u001b[1;31mKeyError\u001b[0m: 'AAPL'",
      "\nThe above exception was the direct cause of the following exception:\n",
      "\u001b[1;31mKeyError\u001b[0m                                  Traceback (most recent call last)",
      "Cell \u001b[1;32mIn[38], line 1\u001b[0m\n\u001b[1;32m----> 1\u001b[0m registros_procurados \u001b[38;5;241m=\u001b[39m df[\u001b[43mdf\u001b[49m\u001b[43m[\u001b[49m\u001b[38;5;124;43m'\u001b[39;49m\u001b[38;5;124;43mAAPL\u001b[39;49m\u001b[38;5;124;43m'\u001b[39;49m\u001b[43m]\u001b[49m \u001b[38;5;241m==\u001b[39m valor_procurado]\n",
      "File \u001b[1;32m~\\OneDrive\\Área de Trabalho\\MBA\\1 - Bootcamp Arquiteto(a) de Big Data\\Modulo 2 - Coleta e Obtenção de Dados\\ATIVIDADE\\env\\coleta_dados\\lib\\site-packages\\pandas\\core\\frame.py:3807\u001b[0m, in \u001b[0;36mDataFrame.__getitem__\u001b[1;34m(self, key)\u001b[0m\n\u001b[0;32m   3805\u001b[0m \u001b[38;5;28;01mif\u001b[39;00m \u001b[38;5;28mself\u001b[39m\u001b[38;5;241m.\u001b[39mcolumns\u001b[38;5;241m.\u001b[39mnlevels \u001b[38;5;241m>\u001b[39m \u001b[38;5;241m1\u001b[39m:\n\u001b[0;32m   3806\u001b[0m     \u001b[38;5;28;01mreturn\u001b[39;00m \u001b[38;5;28mself\u001b[39m\u001b[38;5;241m.\u001b[39m_getitem_multilevel(key)\n\u001b[1;32m-> 3807\u001b[0m indexer \u001b[38;5;241m=\u001b[39m \u001b[38;5;28;43mself\u001b[39;49m\u001b[38;5;241;43m.\u001b[39;49m\u001b[43mcolumns\u001b[49m\u001b[38;5;241;43m.\u001b[39;49m\u001b[43mget_loc\u001b[49m\u001b[43m(\u001b[49m\u001b[43mkey\u001b[49m\u001b[43m)\u001b[49m\n\u001b[0;32m   3808\u001b[0m \u001b[38;5;28;01mif\u001b[39;00m is_integer(indexer):\n\u001b[0;32m   3809\u001b[0m     indexer \u001b[38;5;241m=\u001b[39m [indexer]\n",
      "File \u001b[1;32m~\\OneDrive\\Área de Trabalho\\MBA\\1 - Bootcamp Arquiteto(a) de Big Data\\Modulo 2 - Coleta e Obtenção de Dados\\ATIVIDADE\\env\\coleta_dados\\lib\\site-packages\\pandas\\core\\indexes\\base.py:3804\u001b[0m, in \u001b[0;36mIndex.get_loc\u001b[1;34m(self, key, method, tolerance)\u001b[0m\n\u001b[0;32m   3802\u001b[0m     \u001b[38;5;28;01mreturn\u001b[39;00m \u001b[38;5;28mself\u001b[39m\u001b[38;5;241m.\u001b[39m_engine\u001b[38;5;241m.\u001b[39mget_loc(casted_key)\n\u001b[0;32m   3803\u001b[0m \u001b[38;5;28;01mexcept\u001b[39;00m \u001b[38;5;167;01mKeyError\u001b[39;00m \u001b[38;5;28;01mas\u001b[39;00m err:\n\u001b[1;32m-> 3804\u001b[0m     \u001b[38;5;28;01mraise\u001b[39;00m \u001b[38;5;167;01mKeyError\u001b[39;00m(key) \u001b[38;5;28;01mfrom\u001b[39;00m \u001b[38;5;21;01merr\u001b[39;00m\n\u001b[0;32m   3805\u001b[0m \u001b[38;5;28;01mexcept\u001b[39;00m \u001b[38;5;167;01mTypeError\u001b[39;00m:\n\u001b[0;32m   3806\u001b[0m     \u001b[38;5;66;03m# If we have a listlike key, _check_indexing_error will raise\u001b[39;00m\n\u001b[0;32m   3807\u001b[0m     \u001b[38;5;66;03m#  InvalidIndexError. Otherwise we fall through and re-raise\u001b[39;00m\n\u001b[0;32m   3808\u001b[0m     \u001b[38;5;66;03m#  the TypeError.\u001b[39;00m\n\u001b[0;32m   3809\u001b[0m     \u001b[38;5;28mself\u001b[39m\u001b[38;5;241m.\u001b[39m_check_indexing_error(key)\n",
      "\u001b[1;31mKeyError\u001b[0m: 'AAPL'"
     ]
    }
   ],
   "source": [
    "registros_procurados = df[df['AAPL'] == valor_procurado]"
   ]
  },
  {
   "cell_type": "code",
   "execution_count": 172,
   "id": "5465bae9",
   "metadata": {},
   "outputs": [
    {
     "name": "stdout",
     "output_type": "stream",
     "text": [
      "0\n"
     ]
    }
   ],
   "source": []
  },
  {
   "cell_type": "code",
   "execution_count": 201,
   "id": "0ebfba64",
   "metadata": {},
   "outputs": [],
   "source": [
    "df = pd.read_csv(csv_file)"
   ]
  },
  {
   "cell_type": "code",
   "execution_count": 202,
   "id": "50942a05",
   "metadata": {},
   "outputs": [],
   "source": [
    "num_registros = df.shape[0]"
   ]
  },
  {
   "cell_type": "code",
   "execution_count": 175,
   "id": "1e741925",
   "metadata": {},
   "outputs": [
    {
     "name": "stdout",
     "output_type": "stream",
     "text": [
      "Número de registros: 619040\n"
     ]
    }
   ],
   "source": [
    "print(\"Número de registros:\", num_registros)"
   ]
  },
  {
   "cell_type": "code",
   "execution_count": 195,
   "id": "c82ac22b",
   "metadata": {},
   "outputs": [
    {
     "name": "stdout",
     "output_type": "stream",
     "text": [
      "3\n",
      "O menor volume de transações é: ['BHF']\n"
     ]
    }
   ],
   "source": [
    "df = df[df['volume'] > 0]  # Filtra apenas as ações com volume de transações maior que zero\n",
    "\n",
    "menor_volume = df['volume'].min()\n",
    "print(menor_volume)\n",
    "acao_menos_negociada = df[df['volume'] == menor_volume]['Name'].unique()\n",
    "\n",
    "print(\"O menor volume de transações é:\", acao_menos_negociada)"
   ]
  },
  {
   "cell_type": "code",
   "execution_count": 197,
   "id": "8ddd09ba",
   "metadata": {},
   "outputs": [
    {
     "name": "stdout",
     "output_type": "stream",
     "text": [
      "Contagem de ações por tamanho do nome:\n",
      "1 caractere(s): 10 ações\n",
      "2 caractere(s): 50 ações\n",
      "3 caractere(s): 323 ações\n",
      "4 caractere(s): 117 ações\n",
      "5 caractere(s): 5 ações\n"
     ]
    }
   ],
   "source": [
    "nomes_acoes = df['Name'].unique()\n",
    "\n",
    "contagem_por_tamanho = {\n",
    "    1: 0,\n",
    "    2: 0,\n",
    "    3: 0,\n",
    "    4: 0,\n",
    "    5: 0\n",
    "}\n",
    "\n",
    "for nome in nomes_acoes:\n",
    "    tamanho = len(nome)\n",
    "    if tamanho in contagem_por_tamanho:\n",
    "        contagem_por_tamanho[tamanho] += 1\n",
    "\n",
    "print(\"Contagem de ações por tamanho do nome:\")\n",
    "for tamanho, contagem in contagem_por_tamanho.items():\n",
    "    print(f\"{tamanho} caractere(s): {contagem} ações\")"
   ]
  },
  {
   "cell_type": "code",
   "execution_count": 198,
   "id": "ee8d6ca1",
   "metadata": {},
   "outputs": [
    {
     "name": "stdout",
     "output_type": "stream",
     "text": [
      "A média do volume diário de transações das ações da AAPL é: 54047899.73550437\n"
     ]
    }
   ],
   "source": [
    "df_aapl = df[df['Name'] == 'AAPL']\n",
    "media_volume_diario = df_aapl['volume'].mean()\n",
    "\n",
    "print(\"A média do volume diário de transações das ações da AAPL é:\", media_volume_diario)"
   ]
  },
  {
   "cell_type": "code",
   "execution_count": 204,
   "id": "0fe0f918",
   "metadata": {},
   "outputs": [
    {
     "name": "stdout",
     "output_type": "stream",
     "text": [
      "A ação da Apple (AAPL) mais subiu em termos absolutos entre abertura e fechamento no dia: 2015-08-24\n"
     ]
    },
    {
     "name": "stderr",
     "output_type": "stream",
     "text": [
      "C:\\Users\\Wande\\AppData\\Local\\Temp\\ipykernel_31576\\4235497216.py:2: SettingWithCopyWarning: \n",
      "A value is trying to be set on a copy of a slice from a DataFrame.\n",
      "Try using .loc[row_indexer,col_indexer] = value instead\n",
      "\n",
      "See the caveats in the documentation: https://pandas.pydata.org/pandas-docs/stable/user_guide/indexing.html#returning-a-view-versus-a-copy\n",
      "  df_aapl.loc[:, 'diff_abs'] = abs(df_aapl['close'] - df_aapl['open'])\n"
     ]
    }
   ],
   "source": [
    "df_aapl = df[df['Name'] == 'AAPL']\n",
    "df_aapl.loc[:, 'diff_abs'] = abs(df_aapl['close'] - df_aapl['open'])\n",
    "\n",
    "dia_max_subida = df_aapl['diff_abs'].idxmax()\n",
    "data_max_subida = df_aapl.loc[dia_max_subida, 'date']\n",
    "\n",
    "print(\"A ação da Apple (AAPL) mais subiu em termos absolutos entre abertura e fechamento no dia:\", data_max_subida)"
   ]
  },
  {
   "cell_type": "code",
   "execution_count": 206,
   "id": "e4cd2c45",
   "metadata": {},
   "outputs": [
    {
     "name": "stdout",
     "output_type": "stream",
     "text": [
      "Name\n",
      "A        9.229804\n",
      "AAL     10.957636\n",
      "AAP     31.274463\n",
      "AAPL    30.556812\n",
      "ABBV    13.730380\n",
      "          ...    \n",
      "XYL     11.319674\n",
      "YUM      7.485003\n",
      "ZBH     15.052699\n",
      "ZION     7.673401\n",
      "ZTS     11.981390\n",
      "Name: close, Length: 505, dtype: float64\n",
      "A ação com maior volatilidade é: PCLN\n"
     ]
    }
   ],
   "source": [
    "# Calcula o desvio-padrão dos preços de fechamento para cada ação\n",
    "desvio_padrao_por_acao = df.groupby('Name')['close'].std()\n",
    "\n",
    "print(desvio_padrao_por_acao)\n",
    "\n",
    "# Identifica a ação com o maior desvio-padrão\n",
    "acao_maior_volatilidade = desvio_padrao_por_acao.idxmax()\n",
    "\n",
    "print(\"A ação com maior volatilidade é:\", acao_maior_volatilidade)"
   ]
  },
  {
   "cell_type": "code",
   "execution_count": 207,
   "id": "84785478",
   "metadata": {},
   "outputs": [
    {
     "name": "stdout",
     "output_type": "stream",
     "text": [
      "O dia com maior volume total de negociação da bolsa é: 2015-08-24\n"
     ]
    }
   ],
   "source": [
    "# Agrupa o DataFrame pela data e soma o volume de transações para cada dia\n",
    "volume_total_por_dia = df.groupby('date')['volume'].sum()\n",
    "\n",
    "# Identifica o dia com o maior volume total de negociação\n",
    "dia_maior_volume_total = volume_total_por_dia.idxmax()\n",
    "\n",
    "print(\"O dia com maior volume total de negociação da bolsa é:\", dia_maior_volume_total)"
   ]
  },
  {
   "cell_type": "code",
   "execution_count": 220,
   "id": "9592a5ba",
   "metadata": {},
   "outputs": [
    {
     "name": "stdout",
     "output_type": "stream",
     "text": [
      "open     258457\n",
      "high     258457\n",
      "low      385822\n",
      "close    385822\n",
      "dtype: int64\n"
     ]
    },
    {
     "name": "stderr",
     "output_type": "stream",
     "text": [
      "C:\\Users\\Wande\\AppData\\Local\\Temp\\ipykernel_31576\\2260207924.py:1: FutureWarning: The default value of numeric_only in DataFrameGroupBy.sum is deprecated. In a future version, numeric_only will default to False. Either specify numeric_only or select only columns which should be valid for the function.\n",
      "  volume_total_por_dia = df.groupby('volume').sum()\n"
     ]
    }
   ],
   "source": [
    "volume_total_por_dia = df.groupby('volume').sum()\n",
    "\n",
    "# Identifica o dia com o maior volume total de negociação\n",
    "dia_maior_volume_total = volume_total_por_dia.idxmax()\n",
    "\n",
    "print(dia_maior_volume_total)"
   ]
  },
  {
   "cell_type": "code",
   "execution_count": 224,
   "id": "d0a7a95e",
   "metadata": {},
   "outputs": [
    {
     "name": "stdout",
     "output_type": "stream",
     "text": [
      "A ação mais negociada da bolsa em volume de transações é: BAC\n"
     ]
    }
   ],
   "source": [
    "# Calcula o volume total de transações para cada ação\n",
    "volume_total_por_acao = df.groupby('Name')['volume'].sum()\n",
    "\n",
    "# Identifica a ação com o maior volume total de transações\n",
    "acao_mais_negociada = volume_total_por_acao.idxmax()\n",
    "\n",
    "print(\"A ação mais negociada da bolsa em volume de transações é:\", acao_mais_negociada)"
   ]
  },
  {
   "cell_type": "code",
   "execution_count": 223,
   "id": "24aebad1",
   "metadata": {},
   "outputs": [
    {
     "name": "stdout",
     "output_type": "stream",
     "text": [
      "O preço mais alto do dia também é o preço de fechamento em 1.20% dos dias de negociação.\n"
     ]
    }
   ],
   "source": [
    "# Conta quantas vezes o preço mais alto do dia também é o preço de fechamento\n",
    "preco_alto_e_fechamento = df[df['high'] == df['close']]\n",
    "frequencia = len(preco_alto_e_fechamento) / len(df)\n",
    "\n",
    "print(\"O preço mais alto do dia também é o preço de fechamento em {:.2%} dos dias de negociação.\".format(frequencia))"
   ]
  },
  {
   "cell_type": "code",
   "execution_count": null,
   "id": "f2675fbf",
   "metadata": {},
   "outputs": [],
   "source": []
  }
 ],
 "metadata": {
  "kernelspec": {
   "display_name": "coleta",
   "language": "python",
   "name": "coleta"
  },
  "language_info": {
   "codemirror_mode": {
    "name": "ipython",
    "version": 3
   },
   "file_extension": ".py",
   "mimetype": "text/x-python",
   "name": "python",
   "nbconvert_exporter": "python",
   "pygments_lexer": "ipython3",
   "version": "3.9.0"
  }
 },
 "nbformat": 4,
 "nbformat_minor": 5
}
