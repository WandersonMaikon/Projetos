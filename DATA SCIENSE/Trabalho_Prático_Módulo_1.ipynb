{
 "cells": [
  {
   "cell_type": "code",
   "execution_count": null,
   "metadata": {
    "id": "QCTiJVKgusCX"
   },
   "outputs": [],
   "source": [
    "import pandas as pd\n",
    "import numpy as np\n",
    "import plotly.express as px\n",
    "import seaborn as sns\n",
    "from sklearn.linear_model import LinearRegression\n",
    "from sklearn.metrics import mean_squared_error, mean_absolute_error"
   ]
  },
  {
   "cell_type": "code",
   "execution_count": null,
   "metadata": {
    "id": "JwA-Bf0c1qMD"
   },
   "outputs": [],
   "source": [
    "base_horas_estudos = pd.read_csv('horas_estudos.csv', sep=';', decimal = ',')"
   ]
  },
  {
   "cell_type": "code",
   "execution_count": null,
   "metadata": {
    "colab": {
     "base_uri": "https://localhost:8080/"
    },
    "executionInfo": {
     "elapsed": 4,
     "status": "ok",
     "timestamp": 1674233263552,
     "user": {
      "displayName": "Guilherme Ribeiro",
      "userId": "05746044591492323372"
     },
     "user_tz": 180
    },
    "id": "JDC38ehc2OTv",
    "outputId": "9ee17eba-8533-4dd0-ebaf-562e522b3d22"
   },
   "outputs": [
    {
     "name": "stdout",
     "output_type": "stream",
     "text": [
      "<class 'pandas.core.frame.DataFrame'>\n",
      "RangeIndex: 100 entries, 0 to 99\n",
      "Data columns (total 2 columns):\n",
      " #   Column          Non-Null Count  Dtype \n",
      "---  ------          --------------  ----- \n",
      " 0   horas_estudo    100 non-null    object\n",
      " 1   nota_avaliacao  100 non-null    object\n",
      "dtypes: object(2)\n",
      "memory usage: 1.7+ KB\n"
     ]
    }
   ],
   "source": [
    "base_horas_estudos.info()"
   ]
  },
  {
   "cell_type": "code",
   "execution_count": null,
   "metadata": {
    "colab": {
     "base_uri": "https://localhost:8080/",
     "height": 206
    },
    "executionInfo": {
     "elapsed": 33,
     "status": "ok",
     "timestamp": 1674233280902,
     "user": {
      "displayName": "Guilherme Ribeiro",
      "userId": "05746044591492323372"
     },
     "user_tz": 180
    },
    "id": "I9txkbxcFERW",
    "outputId": "ac0cfd2a-f9a6-4551-a522-fcb8fedaedaa"
   },
   "outputs": [
    {
     "data": {
      "text/html": [
       "\n",
       "  <div id=\"df-11917eef-db8a-4064-8654-95b7c9c7b6b2\">\n",
       "    <div class=\"colab-df-container\">\n",
       "      <div>\n",
       "<style scoped>\n",
       "    .dataframe tbody tr th:only-of-type {\n",
       "        vertical-align: middle;\n",
       "    }\n",
       "\n",
       "    .dataframe tbody tr th {\n",
       "        vertical-align: top;\n",
       "    }\n",
       "\n",
       "    .dataframe thead th {\n",
       "        text-align: right;\n",
       "    }\n",
       "</style>\n",
       "<table border=\"1\" class=\"dataframe\">\n",
       "  <thead>\n",
       "    <tr style=\"text-align: right;\">\n",
       "      <th></th>\n",
       "      <th>horas_estudo</th>\n",
       "      <th>nota_avaliacao</th>\n",
       "    </tr>\n",
       "  </thead>\n",
       "  <tbody>\n",
       "    <tr>\n",
       "      <th>0</th>\n",
       "      <td>16,07</td>\n",
       "      <td>40,05</td>\n",
       "    </tr>\n",
       "    <tr>\n",
       "      <th>1</th>\n",
       "      <td>20,41</td>\n",
       "      <td>66,49</td>\n",
       "    </tr>\n",
       "    <tr>\n",
       "      <th>2</th>\n",
       "      <td>34,29</td>\n",
       "      <td>91,5</td>\n",
       "    </tr>\n",
       "    <tr>\n",
       "      <th>3</th>\n",
       "      <td>34,1</td>\n",
       "      <td>87,09</td>\n",
       "    </tr>\n",
       "    <tr>\n",
       "      <th>4</th>\n",
       "      <td>32,34</td>\n",
       "      <td>69,3</td>\n",
       "    </tr>\n",
       "  </tbody>\n",
       "</table>\n",
       "</div>\n",
       "      <button class=\"colab-df-convert\" onclick=\"convertToInteractive('df-11917eef-db8a-4064-8654-95b7c9c7b6b2')\"\n",
       "              title=\"Convert this dataframe to an interactive table.\"\n",
       "              style=\"display:none;\">\n",
       "        \n",
       "  <svg xmlns=\"http://www.w3.org/2000/svg\" height=\"24px\"viewBox=\"0 0 24 24\"\n",
       "       width=\"24px\">\n",
       "    <path d=\"M0 0h24v24H0V0z\" fill=\"none\"/>\n",
       "    <path d=\"M18.56 5.44l.94 2.06.94-2.06 2.06-.94-2.06-.94-.94-2.06-.94 2.06-2.06.94zm-11 1L8.5 8.5l.94-2.06 2.06-.94-2.06-.94L8.5 2.5l-.94 2.06-2.06.94zm10 10l.94 2.06.94-2.06 2.06-.94-2.06-.94-.94-2.06-.94 2.06-2.06.94z\"/><path d=\"M17.41 7.96l-1.37-1.37c-.4-.4-.92-.59-1.43-.59-.52 0-1.04.2-1.43.59L10.3 9.45l-7.72 7.72c-.78.78-.78 2.05 0 2.83L4 21.41c.39.39.9.59 1.41.59.51 0 1.02-.2 1.41-.59l7.78-7.78 2.81-2.81c.8-.78.8-2.07 0-2.86zM5.41 20L4 18.59l7.72-7.72 1.47 1.35L5.41 20z\"/>\n",
       "  </svg>\n",
       "      </button>\n",
       "      \n",
       "  <style>\n",
       "    .colab-df-container {\n",
       "      display:flex;\n",
       "      flex-wrap:wrap;\n",
       "      gap: 12px;\n",
       "    }\n",
       "\n",
       "    .colab-df-convert {\n",
       "      background-color: #E8F0FE;\n",
       "      border: none;\n",
       "      border-radius: 50%;\n",
       "      cursor: pointer;\n",
       "      display: none;\n",
       "      fill: #1967D2;\n",
       "      height: 32px;\n",
       "      padding: 0 0 0 0;\n",
       "      width: 32px;\n",
       "    }\n",
       "\n",
       "    .colab-df-convert:hover {\n",
       "      background-color: #E2EBFA;\n",
       "      box-shadow: 0px 1px 2px rgba(60, 64, 67, 0.3), 0px 1px 3px 1px rgba(60, 64, 67, 0.15);\n",
       "      fill: #174EA6;\n",
       "    }\n",
       "\n",
       "    [theme=dark] .colab-df-convert {\n",
       "      background-color: #3B4455;\n",
       "      fill: #D2E3FC;\n",
       "    }\n",
       "\n",
       "    [theme=dark] .colab-df-convert:hover {\n",
       "      background-color: #434B5C;\n",
       "      box-shadow: 0px 1px 3px 1px rgba(0, 0, 0, 0.15);\n",
       "      filter: drop-shadow(0px 1px 2px rgba(0, 0, 0, 0.3));\n",
       "      fill: #FFFFFF;\n",
       "    }\n",
       "  </style>\n",
       "\n",
       "      <script>\n",
       "        const buttonEl =\n",
       "          document.querySelector('#df-11917eef-db8a-4064-8654-95b7c9c7b6b2 button.colab-df-convert');\n",
       "        buttonEl.style.display =\n",
       "          google.colab.kernel.accessAllowed ? 'block' : 'none';\n",
       "\n",
       "        async function convertToInteractive(key) {\n",
       "          const element = document.querySelector('#df-11917eef-db8a-4064-8654-95b7c9c7b6b2');\n",
       "          const dataTable =\n",
       "            await google.colab.kernel.invokeFunction('convertToInteractive',\n",
       "                                                     [key], {});\n",
       "          if (!dataTable) return;\n",
       "\n",
       "          const docLinkHtml = 'Like what you see? Visit the ' +\n",
       "            '<a target=\"_blank\" href=https://colab.research.google.com/notebooks/data_table.ipynb>data table notebook</a>'\n",
       "            + ' to learn more about interactive tables.';\n",
       "          element.innerHTML = '';\n",
       "          dataTable['output_type'] = 'display_data';\n",
       "          await google.colab.output.renderOutput(dataTable, element);\n",
       "          const docLink = document.createElement('div');\n",
       "          docLink.innerHTML = docLinkHtml;\n",
       "          element.appendChild(docLink);\n",
       "        }\n",
       "      </script>\n",
       "    </div>\n",
       "  </div>\n",
       "  "
      ],
      "text/plain": [
       "  horas_estudo nota_avaliacao\n",
       "0        16,07          40,05\n",
       "1        20,41          66,49\n",
       "2        34,29           91,5\n",
       "3         34,1          87,09\n",
       "4        32,34           69,3"
      ]
     },
     "execution_count": 62,
     "metadata": {},
     "output_type": "execute_result"
    }
   ],
   "source": [
    "base_horas_estudos.head()"
   ]
  },
  {
   "cell_type": "code",
   "execution_count": null,
   "metadata": {
    "colab": {
     "base_uri": "https://localhost:8080/"
    },
    "executionInfo": {
     "elapsed": 12,
     "status": "ok",
     "timestamp": 1674233511875,
     "user": {
      "displayName": "Guilherme Ribeiro",
      "userId": "05746044591492323372"
     },
     "user_tz": 180
    },
    "id": "BJnZIbfPF4l3",
    "outputId": "cc7efaa9-02bb-45a6-83ae-1fd852a84882"
   },
   "outputs": [
    {
     "data": {
      "text/plain": [
       "<bound method NDFrame.head of 0     16,07\n",
       "1     20,41\n",
       "2     34,29\n",
       "3      34,1\n",
       "4     32,34\n",
       "      ...  \n",
       "95     6,08\n",
       "96     1,58\n",
       "97     8,39\n",
       "98    19,93\n",
       "99     21,8\n",
       "Name: horas_estudo, Length: 100, dtype: object>"
      ]
     },
     "execution_count": 66,
     "metadata": {},
     "output_type": "execute_result"
    }
   ],
   "source": [
    "base_horas_estudos['horas_estudo'].head"
   ]
  },
  {
   "cell_type": "code",
   "execution_count": 1,
   "metadata": {
    "id": "hRmWLQXqAaS8"
   },
   "outputs": [
    {
     "ename": "NameError",
     "evalue": "name 'base_horas_estudos' is not defined",
     "output_type": "error",
     "traceback": [
      "\u001b[1;31m---------------------------------------------------------------------------\u001b[0m",
      "\u001b[1;31mNameError\u001b[0m                                 Traceback (most recent call last)",
      "\u001b[1;32m~\\AppData\\Local\\Temp\\ipykernel_23872\\2165752586.py\u001b[0m in \u001b[0;36m<module>\u001b[1;34m\u001b[0m\n\u001b[1;32m----> 1\u001b[1;33m \u001b[0mbase_horas_estudos\u001b[0m \u001b[1;33m[\u001b[0m\u001b[1;34m'horas_estudo'\u001b[0m\u001b[1;33m]\u001b[0m \u001b[1;33m=\u001b[0m \u001b[0mbase_horas_estudos\u001b[0m \u001b[1;33m[\u001b[0m\u001b[1;34m'horas_estudo'\u001b[0m\u001b[1;33m]\u001b[0m\u001b[1;33m.\u001b[0m\u001b[0mapply\u001b[0m\u001b[1;33m(\u001b[0m\u001b[1;32mlambda\u001b[0m \u001b[0mx\u001b[0m\u001b[1;33m:\u001b[0m \u001b[0mstr\u001b[0m\u001b[1;33m(\u001b[0m\u001b[0mx\u001b[0m\u001b[1;33m)\u001b[0m\u001b[1;33m.\u001b[0m\u001b[0mreplace\u001b[0m\u001b[1;33m(\u001b[0m\u001b[1;34m\",\"\u001b[0m\u001b[1;33m,\u001b[0m\u001b[1;34m\".\"\u001b[0m\u001b[1;33m)\u001b[0m\u001b[1;33m)\u001b[0m\u001b[1;33m\u001b[0m\u001b[1;33m\u001b[0m\u001b[0m\n\u001b[0m",
      "\u001b[1;31mNameError\u001b[0m: name 'base_horas_estudos' is not defined"
     ]
    }
   ],
   "source": [
    "base_horas_estudos ['horas_estudo'] = base_horas_estudos ['horas_estudo'].apply(lambda x: str(x).replace(\",\",\".\"))\n"
   ]
  },
  {
   "cell_type": "code",
   "execution_count": null,
   "metadata": {
    "id": "XKTd9P-RGgSC"
   },
   "outputs": [],
   "source": [
    "base_horas_estudos ['nota_avaliacao'] = base_horas_estudos ['nota_avaliacao'].apply(lambda x: str(x).replace(\",\",\".\"))"
   ]
  },
  {
   "cell_type": "code",
   "execution_count": null,
   "metadata": {
    "id": "-yF055qiGv3y"
   },
   "outputs": [],
   "source": [
    "base_horas_estudos ['nota_avaliacao']=base_horas_estudos ['nota_avaliacao'].astype('float64')"
   ]
  },
  {
   "cell_type": "code",
   "execution_count": null,
   "metadata": {
    "id": "yRKJ3j7MHCZE"
   },
   "outputs": [],
   "source": [
    "base_horas_estudos ['horas_estudo']=base_horas_estudos ['horas_estudo'].astype('float64')"
   ]
  },
  {
   "cell_type": "code",
   "execution_count": null,
   "metadata": {
    "id": "RnNqOl0D28Wa"
   },
   "outputs": [],
   "source": [
    "x_horas_estudo = base_horas_estudos.iloc[:,0].values\n",
    "y_nota_avaliacao = base_horas_estudos.iloc[:,1].values"
   ]
  },
  {
   "cell_type": "code",
   "execution_count": null,
   "metadata": {
    "colab": {
     "base_uri": "https://localhost:8080/"
    },
    "executionInfo": {
     "elapsed": 548,
     "status": "ok",
     "timestamp": 1674233956794,
     "user": {
      "displayName": "Guilherme Ribeiro",
      "userId": "05746044591492323372"
     },
     "user_tz": 180
    },
    "id": "2D4LIIch7-ig",
    "outputId": "6ebddc92-f29b-47bb-a975-94ece538ff2e"
   },
   "outputs": [
    {
     "data": {
      "text/plain": [
       "array([[1.        , 0.65975872],\n",
       "       [0.65975872, 1.        ]])"
      ]
     },
     "execution_count": 81,
     "metadata": {},
     "output_type": "execute_result"
    }
   ],
   "source": [
    "np.corrcoef(x_horas_estudo,y_nota_avaliacao)"
   ]
  },
  {
   "cell_type": "code",
   "execution_count": null,
   "metadata": {
    "id": "1CfxErWyNwRi"
   },
   "outputs": [],
   "source": [
    "x_horas_estudo = x_horas_estudo.reshape(-1,1)"
   ]
  },
  {
   "cell_type": "markdown",
   "metadata": {
    "id": "J5F9vKjBN8wN"
   },
   "source": []
  },
  {
   "cell_type": "code",
   "execution_count": null,
   "metadata": {
    "colab": {
     "base_uri": "https://localhost:8080/"
    },
    "executionInfo": {
     "elapsed": 495,
     "status": "ok",
     "timestamp": 1674240580181,
     "user": {
      "displayName": "Guilherme Ribeiro",
      "userId": "05746044591492323372"
     },
     "user_tz": 180
    },
    "id": "KCClZ9zhN8Gr",
    "outputId": "8a6edd6d-97b1-4c36-e095-d2bf60ffea3f"
   },
   "outputs": [
    {
     "data": {
      "text/plain": [
       "sklearn.linear_model._base.LinearRegression"
      ]
     },
     "execution_count": 176,
     "metadata": {},
     "output_type": "execute_result"
    }
   ],
   "source": [
    "previsao_nota = LinearRegression()\n",
    "type(previsao_nota)"
   ]
  },
  {
   "cell_type": "code",
   "execution_count": null,
   "metadata": {
    "colab": {
     "base_uri": "https://localhost:8080/"
    },
    "executionInfo": {
     "elapsed": 416,
     "status": "ok",
     "timestamp": 1674240583035,
     "user": {
      "displayName": "Guilherme Ribeiro",
      "userId": "05746044591492323372"
     },
     "user_tz": 180
    },
    "id": "Jkxetb9zOKo6",
    "outputId": "eecdd500-2cba-4759-f639-5ff5f511c618"
   },
   "outputs": [
    {
     "data": {
      "text/plain": [
       "LinearRegression()"
      ]
     },
     "execution_count": 177,
     "metadata": {},
     "output_type": "execute_result"
    }
   ],
   "source": [
    "previsao_nota.fit(x_horas_estudo,y_nota_avaliacao)"
   ]
  },
  {
   "cell_type": "code",
   "execution_count": null,
   "metadata": {
    "colab": {
     "base_uri": "https://localhost:8080/"
    },
    "executionInfo": {
     "elapsed": 272,
     "status": "ok",
     "timestamp": 1674240745256,
     "user": {
      "displayName": "Guilherme Ribeiro",
      "userId": "05746044591492323372"
     },
     "user_tz": 180
    },
    "id": "8VUjchgLhctT",
    "outputId": "9f66ca51-0c57-4a10-81f6-4fb527f3709e"
   },
   "outputs": [
    {
     "data": {
      "text/plain": [
       "array([57.8709436 , 63.74108601, 82.51472121, 82.25773341, 79.87721483,\n",
       "       46.0089277 , 40.6933379 , 60.12973112, 81.25683355, 60.18383381,\n",
       "       57.49222473, 54.36779409, 71.00437283, 57.8168409 , 78.99804603,\n",
       "       77.68605567, 54.93587239, 60.27851353, 83.71850618, 41.47782698,\n",
       "       48.34886926, 66.82493963, 62.78076318, 60.56255268, 55.8556182 ,\n",
       "       60.64370672, 54.50305083, 78.36233936, 65.72936006, 59.60222984,\n",
       "       50.06662983, 86.35601256, 68.88084205, 51.7302877 , 50.51297706,\n",
       "       49.32271777, 78.52464745, 36.64916144, 36.68973846, 60.90069452,\n",
       "       88.99351895, 75.17028035, 57.76273821, 53.20458614, 43.26321592,\n",
       "       75.42726815, 82.01427128, 57.16760856, 86.93761654, 44.54815493,\n",
       "       53.32631721, 85.16575327, 43.69603748, 82.3659388 , 87.12697597,\n",
       "       58.0738287 , 55.26048856, 72.68155638, 66.96019637, 76.31996262,\n",
       "       73.72303326, 72.88444149, 52.20368628, 64.90429396, 69.48949737,\n",
       "       62.41556998, 87.20813001, 88.16845285, 68.70500829, 72.07290106,\n",
       "       74.72393312, 64.91781963, 57.54632742, 37.50127889, 58.11440572,\n",
       "       81.10805114, 58.18203409, 77.71310702, 83.33978731, 82.24420774,\n",
       "       76.63105312, 71.92411865, 49.98547579, 88.7635825 , 50.48592571,\n",
       "       43.7907172 , 41.54545535, 61.71223495, 89.10172434, 71.0178985 ,\n",
       "       75.83303837, 56.76183835, 71.49129709, 42.97917677, 63.61935495,\n",
       "       44.35879549, 38.2722423 , 47.48322614, 63.09185367, 65.62115467])"
      ]
     },
     "execution_count": 186,
     "metadata": {},
     "output_type": "execute_result"
    }
   ],
   "source": [
    "previsao_avaliacao=previsao_nota.predict(x_horas_estudo)\n",
    "previsao_avaliacao"
   ]
  },
  {
   "cell_type": "code",
   "execution_count": null,
   "metadata": {
    "colab": {
     "base_uri": "https://localhost:8080/"
    },
    "executionInfo": {
     "elapsed": 17,
     "status": "ok",
     "timestamp": 1674235450833,
     "user": {
      "displayName": "Guilherme Ribeiro",
      "userId": "05746044591492323372"
     },
     "user_tz": 180
    },
    "id": "q7JktYEyMPCT",
    "outputId": "b5c3a2ce-701b-4720-a6b6-14c1590ff9fd"
   },
   "outputs": [
    {
     "data": {
      "text/plain": [
       "10.731427837633882"
      ]
     },
     "execution_count": 86,
     "metadata": {},
     "output_type": "execute_result"
    }
   ],
   "source": [
    "### resultado Pergunta 2 - utilizando o desvio padrão amostral\n",
    "\n",
    "desvio_padrao_horas_estudo = x_horas_estudo.std(ddof=1)\n",
    "desvio_padrao_horas_estudo"
   ]
  },
  {
   "cell_type": "code",
   "execution_count": null,
   "metadata": {
    "colab": {
     "base_uri": "https://localhost:8080/",
     "height": 542
    },
    "executionInfo": {
     "elapsed": 333,
     "status": "ok",
     "timestamp": 1674240763922,
     "user": {
      "displayName": "Guilherme Ribeiro",
      "userId": "05746044591492323372"
     },
     "user_tz": 180
    },
    "id": "jnzHBVhESA_J",
    "outputId": "e1a5a93d-3c3a-4dd5-947c-c0b272087098"
   },
   "outputs": [
    {
     "data": {
      "text/html": [
       "<html>\n",
       "<head><meta charset=\"utf-8\" /></head>\n",
       "<body>\n",
       "    <div>            <script src=\"https://cdnjs.cloudflare.com/ajax/libs/mathjax/2.7.5/MathJax.js?config=TeX-AMS-MML_SVG\"></script><script type=\"text/javascript\">if (window.MathJax) {MathJax.Hub.Config({SVG: {font: \"STIX-Web\"}});}</script>                <script type=\"text/javascript\">window.PlotlyConfig = {MathJaxConfig: 'local'};</script>\n",
       "        <script src=\"https://cdn.plot.ly/plotly-2.8.3.min.js\"></script>                <div id=\"92c88c17-96a6-49be-8c98-fc9b7d21d3a8\" class=\"plotly-graph-div\" style=\"height:525px; width:100%;\"></div>            <script type=\"text/javascript\">                                    window.PLOTLYENV=window.PLOTLYENV || {};                                    if (document.getElementById(\"92c88c17-96a6-49be-8c98-fc9b7d21d3a8\")) {                    Plotly.newPlot(                        \"92c88c17-96a6-49be-8c98-fc9b7d21d3a8\",                        [{\"hovertemplate\":\"x=%{x}<br>y=%{y}<extra></extra>\",\"legendgroup\":\"\",\"marker\":{\"color\":\"#636efa\",\"symbol\":\"circle\"},\"mode\":\"markers\",\"name\":\"\",\"orientation\":\"v\",\"showlegend\":false,\"x\":[16.07,20.41,34.29,34.1,32.34,7.3,3.37,17.74,33.36,17.78,15.79,13.48,25.78,16.03,31.69,30.72,13.9,17.85,35.18,3.95,9.03,22.69,19.7,18.06,14.58,18.12,13.58,31.22,21.88,17.35,10.3,37.13,24.21,11.53,10.63,9.75,31.34,0.38,0.41,18.31,39.08,28.86,15.99,12.62,5.27,29.05,33.92,15.55,37.56,6.22,12.71,36.25,5.59,34.18,37.7,16.22,14.14,27.02,22.79,29.71,27.79,27.17,11.88,21.27,24.66,19.43,37.76,38.47,24.08,26.57,28.53,21.28,15.83,1.01,16.25,33.25,16.3,30.74,34.9,34.09,29.94,26.46,10.24,38.91,10.61,5.66,4.0,18.91,39.16,25.79,29.35,15.25,26.14,5.06,20.32,6.08,1.58,8.39,19.93,21.8],\"xaxis\":\"x\",\"y\":[40.05,66.49,91.5,87.09,69.3,90.59,32.18,55.02,75.06,42.14,41.35,55.78,55.81,37.61,59.02,30.14,32.66,47.77,84.16,30.93,55.38,32.53,40.73,62.32,55.21,50.97,60.25,38.83,75.56,56.62,42.21,93.04,52.53,61.2,44.54,52.48,75.16,10.3,15.52,44.72,100.0,80.07,50.49,54.03,64.15,62.44,90.91,86.84,94.71,34.24,48.54,93.54,56.66,90.9,79.19,46.18,46.71,74.56,75.93,87.5,94.12,99.22,56.11,42.89,88.95,87.33,95.8,94.92,73.63,74.64,66.14,51.53,35.42,34.47,69.88,82.41,36.87,80.71,96.18,92.91,92.72,79.59,85.68,97.39,51.88,37.93,58.96,72.65,99.09,71.16,96.76,68.13,51.89,76.03,70.66,92.89,51.01,32.46,52.92,65.99],\"yaxis\":\"y\",\"type\":\"scatter\"},{\"name\":\"Previs\\u00f5es\",\"x\":[16.07,20.41,34.29,34.1,32.34,7.3,3.37,17.74,33.36,17.78,15.79,13.48,25.78,16.03,31.69,30.72,13.9,17.85,35.18,3.95,9.03,22.69,19.7,18.06,14.58,18.12,13.58,31.22,21.88,17.35,10.3,37.13,24.21,11.53,10.63,9.75,31.34,0.38,0.41,18.31,39.08,28.86,15.99,12.62,5.27,29.05,33.92,15.55,37.56,6.22,12.71,36.25,5.59,34.18,37.7,16.22,14.14,27.02,22.79,29.71,27.79,27.17,11.88,21.27,24.66,19.43,37.76,38.47,24.08,26.57,28.53,21.28,15.83,1.01,16.25,33.25,16.3,30.74,34.9,34.09,29.94,26.46,10.24,38.91,10.61,5.66,4.0,18.91,39.16,25.79,29.35,15.25,26.14,5.06,20.32,6.08,1.58,8.39,19.93,21.8],\"y\":[57.87094359556197,63.74108601363288,82.51472121244035,82.25773341072757,79.87721482644075,46.00892769545091,40.69333790212862,60.12973111587957,81.25683355142516,60.183833810977006,57.492224729879965,54.36779408800351,71.00437283046259,57.81684090046454,78.99804603110755,77.68605567499492,54.9358723865265,60.27851352739751,83.71850617835813,41.477826981041325,48.34886925841466,66.82493963418628,62.78076317565354,60.562552676658996,55.85561820318277,60.64370671930514,54.50305082574708,78.36233936371276,65.72936005846336,59.602229838679655,50.06662982775799,86.35601256435774,68.88084204788854,51.7302877020039,50.512977062311776,49.32271777016836,78.52464744900504,36.64916144359589,36.68973846491896,60.900694521017925,88.99351895035733,75.17028035296451,57.76273820536711,53.204586143408804,43.26321591925644,75.42726815467731,82.01427128278914,57.1676085592954,86.93761653665507,44.548154927820356,53.326317207378025,85.16575327221432,43.69603748003586,82.36593880092242,87.12697596949607,58.073828702177316,55.260488557111074,72.68155637848284,66.96019637192984,76.31996262378486,73.72303325910832,72.8844414850982,52.203686284106396,64.90429395822758,69.4894973677346,62.4155699837459,87.20813001214222,88.16845285012155,68.70500828882189,72.07290105863677,74.72393311841074,64.91781963200194,57.54632742497739,37.50127889138037,58.11440572350038,81.10805113990722,58.18203409237218,77.71310702254362,83.33978731267612,82.24420773695321,76.63105312059507,71.92411864711885,49.98547578511185,88.76358249619327,50.485925714763056,43.79071719645636,41.545455349913105,61.712234947479345,89.10172434055218,71.01789850423694,75.83303836790802,56.76183834606469,71.49129708633942,42.97917676999494,63.61935494966367,44.358795494979354,38.272242296518726,47.48322613685582,63.09185367246375,65.6211546682685],\"type\":\"scatter\"}],                        {\"template\":{\"data\":{\"bar\":[{\"error_x\":{\"color\":\"#2a3f5f\"},\"error_y\":{\"color\":\"#2a3f5f\"},\"marker\":{\"line\":{\"color\":\"#E5ECF6\",\"width\":0.5},\"pattern\":{\"fillmode\":\"overlay\",\"size\":10,\"solidity\":0.2}},\"type\":\"bar\"}],\"barpolar\":[{\"marker\":{\"line\":{\"color\":\"#E5ECF6\",\"width\":0.5},\"pattern\":{\"fillmode\":\"overlay\",\"size\":10,\"solidity\":0.2}},\"type\":\"barpolar\"}],\"carpet\":[{\"aaxis\":{\"endlinecolor\":\"#2a3f5f\",\"gridcolor\":\"white\",\"linecolor\":\"white\",\"minorgridcolor\":\"white\",\"startlinecolor\":\"#2a3f5f\"},\"baxis\":{\"endlinecolor\":\"#2a3f5f\",\"gridcolor\":\"white\",\"linecolor\":\"white\",\"minorgridcolor\":\"white\",\"startlinecolor\":\"#2a3f5f\"},\"type\":\"carpet\"}],\"choropleth\":[{\"colorbar\":{\"outlinewidth\":0,\"ticks\":\"\"},\"type\":\"choropleth\"}],\"contour\":[{\"colorbar\":{\"outlinewidth\":0,\"ticks\":\"\"},\"colorscale\":[[0.0,\"#0d0887\"],[0.1111111111111111,\"#46039f\"],[0.2222222222222222,\"#7201a8\"],[0.3333333333333333,\"#9c179e\"],[0.4444444444444444,\"#bd3786\"],[0.5555555555555556,\"#d8576b\"],[0.6666666666666666,\"#ed7953\"],[0.7777777777777778,\"#fb9f3a\"],[0.8888888888888888,\"#fdca26\"],[1.0,\"#f0f921\"]],\"type\":\"contour\"}],\"contourcarpet\":[{\"colorbar\":{\"outlinewidth\":0,\"ticks\":\"\"},\"type\":\"contourcarpet\"}],\"heatmap\":[{\"colorbar\":{\"outlinewidth\":0,\"ticks\":\"\"},\"colorscale\":[[0.0,\"#0d0887\"],[0.1111111111111111,\"#46039f\"],[0.2222222222222222,\"#7201a8\"],[0.3333333333333333,\"#9c179e\"],[0.4444444444444444,\"#bd3786\"],[0.5555555555555556,\"#d8576b\"],[0.6666666666666666,\"#ed7953\"],[0.7777777777777778,\"#fb9f3a\"],[0.8888888888888888,\"#fdca26\"],[1.0,\"#f0f921\"]],\"type\":\"heatmap\"}],\"heatmapgl\":[{\"colorbar\":{\"outlinewidth\":0,\"ticks\":\"\"},\"colorscale\":[[0.0,\"#0d0887\"],[0.1111111111111111,\"#46039f\"],[0.2222222222222222,\"#7201a8\"],[0.3333333333333333,\"#9c179e\"],[0.4444444444444444,\"#bd3786\"],[0.5555555555555556,\"#d8576b\"],[0.6666666666666666,\"#ed7953\"],[0.7777777777777778,\"#fb9f3a\"],[0.8888888888888888,\"#fdca26\"],[1.0,\"#f0f921\"]],\"type\":\"heatmapgl\"}],\"histogram\":[{\"marker\":{\"pattern\":{\"fillmode\":\"overlay\",\"size\":10,\"solidity\":0.2}},\"type\":\"histogram\"}],\"histogram2d\":[{\"colorbar\":{\"outlinewidth\":0,\"ticks\":\"\"},\"colorscale\":[[0.0,\"#0d0887\"],[0.1111111111111111,\"#46039f\"],[0.2222222222222222,\"#7201a8\"],[0.3333333333333333,\"#9c179e\"],[0.4444444444444444,\"#bd3786\"],[0.5555555555555556,\"#d8576b\"],[0.6666666666666666,\"#ed7953\"],[0.7777777777777778,\"#fb9f3a\"],[0.8888888888888888,\"#fdca26\"],[1.0,\"#f0f921\"]],\"type\":\"histogram2d\"}],\"histogram2dcontour\":[{\"colorbar\":{\"outlinewidth\":0,\"ticks\":\"\"},\"colorscale\":[[0.0,\"#0d0887\"],[0.1111111111111111,\"#46039f\"],[0.2222222222222222,\"#7201a8\"],[0.3333333333333333,\"#9c179e\"],[0.4444444444444444,\"#bd3786\"],[0.5555555555555556,\"#d8576b\"],[0.6666666666666666,\"#ed7953\"],[0.7777777777777778,\"#fb9f3a\"],[0.8888888888888888,\"#fdca26\"],[1.0,\"#f0f921\"]],\"type\":\"histogram2dcontour\"}],\"mesh3d\":[{\"colorbar\":{\"outlinewidth\":0,\"ticks\":\"\"},\"type\":\"mesh3d\"}],\"parcoords\":[{\"line\":{\"colorbar\":{\"outlinewidth\":0,\"ticks\":\"\"}},\"type\":\"parcoords\"}],\"pie\":[{\"automargin\":true,\"type\":\"pie\"}],\"scatter\":[{\"marker\":{\"colorbar\":{\"outlinewidth\":0,\"ticks\":\"\"}},\"type\":\"scatter\"}],\"scatter3d\":[{\"line\":{\"colorbar\":{\"outlinewidth\":0,\"ticks\":\"\"}},\"marker\":{\"colorbar\":{\"outlinewidth\":0,\"ticks\":\"\"}},\"type\":\"scatter3d\"}],\"scattercarpet\":[{\"marker\":{\"colorbar\":{\"outlinewidth\":0,\"ticks\":\"\"}},\"type\":\"scattercarpet\"}],\"scattergeo\":[{\"marker\":{\"colorbar\":{\"outlinewidth\":0,\"ticks\":\"\"}},\"type\":\"scattergeo\"}],\"scattergl\":[{\"marker\":{\"colorbar\":{\"outlinewidth\":0,\"ticks\":\"\"}},\"type\":\"scattergl\"}],\"scattermapbox\":[{\"marker\":{\"colorbar\":{\"outlinewidth\":0,\"ticks\":\"\"}},\"type\":\"scattermapbox\"}],\"scatterpolar\":[{\"marker\":{\"colorbar\":{\"outlinewidth\":0,\"ticks\":\"\"}},\"type\":\"scatterpolar\"}],\"scatterpolargl\":[{\"marker\":{\"colorbar\":{\"outlinewidth\":0,\"ticks\":\"\"}},\"type\":\"scatterpolargl\"}],\"scatterternary\":[{\"marker\":{\"colorbar\":{\"outlinewidth\":0,\"ticks\":\"\"}},\"type\":\"scatterternary\"}],\"surface\":[{\"colorbar\":{\"outlinewidth\":0,\"ticks\":\"\"},\"colorscale\":[[0.0,\"#0d0887\"],[0.1111111111111111,\"#46039f\"],[0.2222222222222222,\"#7201a8\"],[0.3333333333333333,\"#9c179e\"],[0.4444444444444444,\"#bd3786\"],[0.5555555555555556,\"#d8576b\"],[0.6666666666666666,\"#ed7953\"],[0.7777777777777778,\"#fb9f3a\"],[0.8888888888888888,\"#fdca26\"],[1.0,\"#f0f921\"]],\"type\":\"surface\"}],\"table\":[{\"cells\":{\"fill\":{\"color\":\"#EBF0F8\"},\"line\":{\"color\":\"white\"}},\"header\":{\"fill\":{\"color\":\"#C8D4E3\"},\"line\":{\"color\":\"white\"}},\"type\":\"table\"}]},\"layout\":{\"annotationdefaults\":{\"arrowcolor\":\"#2a3f5f\",\"arrowhead\":0,\"arrowwidth\":1},\"autotypenumbers\":\"strict\",\"coloraxis\":{\"colorbar\":{\"outlinewidth\":0,\"ticks\":\"\"}},\"colorscale\":{\"diverging\":[[0,\"#8e0152\"],[0.1,\"#c51b7d\"],[0.2,\"#de77ae\"],[0.3,\"#f1b6da\"],[0.4,\"#fde0ef\"],[0.5,\"#f7f7f7\"],[0.6,\"#e6f5d0\"],[0.7,\"#b8e186\"],[0.8,\"#7fbc41\"],[0.9,\"#4d9221\"],[1,\"#276419\"]],\"sequential\":[[0.0,\"#0d0887\"],[0.1111111111111111,\"#46039f\"],[0.2222222222222222,\"#7201a8\"],[0.3333333333333333,\"#9c179e\"],[0.4444444444444444,\"#bd3786\"],[0.5555555555555556,\"#d8576b\"],[0.6666666666666666,\"#ed7953\"],[0.7777777777777778,\"#fb9f3a\"],[0.8888888888888888,\"#fdca26\"],[1.0,\"#f0f921\"]],\"sequentialminus\":[[0.0,\"#0d0887\"],[0.1111111111111111,\"#46039f\"],[0.2222222222222222,\"#7201a8\"],[0.3333333333333333,\"#9c179e\"],[0.4444444444444444,\"#bd3786\"],[0.5555555555555556,\"#d8576b\"],[0.6666666666666666,\"#ed7953\"],[0.7777777777777778,\"#fb9f3a\"],[0.8888888888888888,\"#fdca26\"],[1.0,\"#f0f921\"]]},\"colorway\":[\"#636efa\",\"#EF553B\",\"#00cc96\",\"#ab63fa\",\"#FFA15A\",\"#19d3f3\",\"#FF6692\",\"#B6E880\",\"#FF97FF\",\"#FECB52\"],\"font\":{\"color\":\"#2a3f5f\"},\"geo\":{\"bgcolor\":\"white\",\"lakecolor\":\"white\",\"landcolor\":\"#E5ECF6\",\"showlakes\":true,\"showland\":true,\"subunitcolor\":\"white\"},\"hoverlabel\":{\"align\":\"left\"},\"hovermode\":\"closest\",\"mapbox\":{\"style\":\"light\"},\"paper_bgcolor\":\"white\",\"plot_bgcolor\":\"#E5ECF6\",\"polar\":{\"angularaxis\":{\"gridcolor\":\"white\",\"linecolor\":\"white\",\"ticks\":\"\"},\"bgcolor\":\"#E5ECF6\",\"radialaxis\":{\"gridcolor\":\"white\",\"linecolor\":\"white\",\"ticks\":\"\"}},\"scene\":{\"xaxis\":{\"backgroundcolor\":\"#E5ECF6\",\"gridcolor\":\"white\",\"gridwidth\":2,\"linecolor\":\"white\",\"showbackground\":true,\"ticks\":\"\",\"zerolinecolor\":\"white\"},\"yaxis\":{\"backgroundcolor\":\"#E5ECF6\",\"gridcolor\":\"white\",\"gridwidth\":2,\"linecolor\":\"white\",\"showbackground\":true,\"ticks\":\"\",\"zerolinecolor\":\"white\"},\"zaxis\":{\"backgroundcolor\":\"#E5ECF6\",\"gridcolor\":\"white\",\"gridwidth\":2,\"linecolor\":\"white\",\"showbackground\":true,\"ticks\":\"\",\"zerolinecolor\":\"white\"}},\"shapedefaults\":{\"line\":{\"color\":\"#2a3f5f\"}},\"ternary\":{\"aaxis\":{\"gridcolor\":\"white\",\"linecolor\":\"white\",\"ticks\":\"\"},\"baxis\":{\"gridcolor\":\"white\",\"linecolor\":\"white\",\"ticks\":\"\"},\"bgcolor\":\"#E5ECF6\",\"caxis\":{\"gridcolor\":\"white\",\"linecolor\":\"white\",\"ticks\":\"\"}},\"title\":{\"x\":0.05},\"xaxis\":{\"automargin\":true,\"gridcolor\":\"white\",\"linecolor\":\"white\",\"ticks\":\"\",\"title\":{\"standoff\":15},\"zerolinecolor\":\"white\",\"zerolinewidth\":2},\"yaxis\":{\"automargin\":true,\"gridcolor\":\"white\",\"linecolor\":\"white\",\"ticks\":\"\",\"title\":{\"standoff\":15},\"zerolinecolor\":\"white\",\"zerolinewidth\":2}}},\"xaxis\":{\"anchor\":\"y\",\"domain\":[0.0,1.0],\"title\":{\"text\":\"x\"}},\"yaxis\":{\"anchor\":\"x\",\"domain\":[0.0,1.0],\"title\":{\"text\":\"y\"}},\"legend\":{\"tracegroupgap\":0},\"margin\":{\"t\":60}},                        {\"responsive\": true}                    ).then(function(){\n",
       "                            \n",
       "var gd = document.getElementById('92c88c17-96a6-49be-8c98-fc9b7d21d3a8');\n",
       "var x = new MutationObserver(function (mutations, observer) {{\n",
       "        var display = window.getComputedStyle(gd).display;\n",
       "        if (!display || display === 'none') {{\n",
       "            console.log([gd, 'removed!']);\n",
       "            Plotly.purge(gd);\n",
       "            observer.disconnect();\n",
       "        }}\n",
       "}});\n",
       "\n",
       "// Listen for the removal of the full notebook cells\n",
       "var notebookContainer = gd.closest('#notebook-container');\n",
       "if (notebookContainer) {{\n",
       "    x.observe(notebookContainer, {childList: true});\n",
       "}}\n",
       "\n",
       "// Listen for the clearing of the current output cell\n",
       "var outputEl = gd.closest('.output');\n",
       "if (outputEl) {{\n",
       "    x.observe(outputEl, {childList: true});\n",
       "}}\n",
       "\n",
       "                        })                };                            </script>        </div>\n",
       "</body>\n",
       "</html>"
      ]
     },
     "metadata": {},
     "output_type": "display_data"
    }
   ],
   "source": [
    "### Resposta pergunta 5\n",
    "grafico=px.scatter(x=x_horas_estudo.ravel(),y=y_nota_avaliacao)\n",
    "grafico.add_scatter(x=x_horas_estudo.ravel(),y=previsao_avaliacao,name='Previsões')\n",
    "grafico.show()"
   ]
  },
  {
   "cell_type": "code",
   "execution_count": null,
   "metadata": {
    "colab": {
     "base_uri": "https://localhost:8080/"
    },
    "executionInfo": {
     "elapsed": 13,
     "status": "ok",
     "timestamp": 1674239411064,
     "user": {
      "displayName": "Guilherme Ribeiro",
      "userId": "05746044591492323372"
     },
     "user_tz": 180
    },
    "id": "Ufb-i0JCcR7V",
    "outputId": "44f43b7a-d6a2-4039-b477-fca3b03b5938"
   },
   "outputs": [
    {
     "data": {
      "text/plain": [
       "64.2226"
      ]
     },
     "execution_count": 146,
     "metadata": {},
     "output_type": "execute_result"
    }
   ],
   "source": [
    "### resultado Pergunta 6\n",
    "media_notas = y_nota_avaliacao.mean()\n",
    "media_notas"
   ]
  },
  {
   "cell_type": "code",
   "execution_count": null,
   "metadata": {
    "colab": {
     "base_uri": "https://localhost:8080/"
    },
    "executionInfo": {
     "elapsed": 463,
     "status": "ok",
     "timestamp": 1674240585664,
     "user": {
      "displayName": "Guilherme Ribeiro",
      "userId": "05746044591492323372"
     },
     "user_tz": 180
    },
    "id": "g4hS2TB-OfHy",
    "outputId": "7d778f71-7588-410b-9e1a-09e258f12278"
   },
   "outputs": [
    {
     "data": {
      "text/plain": [
       "36.13518584017032"
      ]
     },
     "execution_count": 178,
     "metadata": {},
     "output_type": "execute_result"
    }
   ],
   "source": [
    "### Resultado pergunta 8\n",
    "\n",
    "previsao_nota.intercept_"
   ]
  },
  {
   "cell_type": "code",
   "execution_count": null,
   "metadata": {
    "colab": {
     "base_uri": "https://localhost:8080/"
    },
    "executionInfo": {
     "elapsed": 289,
     "status": "ok",
     "timestamp": 1674240588358,
     "user": {
      "displayName": "Guilherme Ribeiro",
      "userId": "05746044591492323372"
     },
     "user_tz": 180
    },
    "id": "zwpZ7IatOz7V",
    "outputId": "6b44224c-349e-449f-8693-900307d0d5bb"
   },
   "outputs": [
    {
     "data": {
      "text/plain": [
       "array([1.35256738])"
      ]
     },
     "execution_count": 179,
     "metadata": {},
     "output_type": "execute_result"
    }
   ],
   "source": [
    "### Resultado pergunta 9\n",
    "\n",
    "previsao_nota.coef_"
   ]
  },
  {
   "cell_type": "code",
   "execution_count": null,
   "metadata": {
    "colab": {
     "base_uri": "https://localhost:8080/"
    },
    "executionInfo": {
     "elapsed": 458,
     "status": "ok",
     "timestamp": 1674240927773,
     "user": {
      "displayName": "Guilherme Ribeiro",
      "userId": "05746044591492323372"
     },
     "user_tz": 180
    },
    "id": "3StCsFekO8br",
    "outputId": "93732bdb-b931-4c4e-fd83-4c73bdf663d5"
   },
   "outputs": [
    {
     "data": {
      "text/plain": [
       "array([69.94937028])"
      ]
     },
     "execution_count": 195,
     "metadata": {},
     "output_type": "execute_result"
    }
   ],
   "source": [
    "### Resultado pergunta 10\n",
    "previsao_nota.predict([[25]])"
   ]
  },
  {
   "cell_type": "code",
   "execution_count": null,
   "metadata": {
    "colab": {
     "base_uri": "https://localhost:8080/"
    },
    "executionInfo": {
     "elapsed": 444,
     "status": "ok",
     "timestamp": 1674240616485,
     "user": {
      "displayName": "Guilherme Ribeiro",
      "userId": "05746044591492323372"
     },
     "user_tz": 180
    },
    "id": "zBM146wOPPvG",
    "outputId": "5cf5ca51-a0e3-4dda-fa25-aaf7f3bcfce3"
   },
   "outputs": [
    {
     "data": {
      "text/plain": [
       "23    1.757447\n",
       "Name: nota_avaliacao, dtype: float64"
      ]
     },
     "execution_count": 183,
     "metadata": {},
     "output_type": "execute_result"
    }
   ],
   "source": [
    "### Resultado pergunta 11\n",
    "prev_18=previsao_nota.predict([[18.06]])\n",
    "hora_18=base_horas_estudos.loc[base_horas_estudos['horas_estudo']==18.06,'nota_avaliacao']\n",
    "hora_18-prev_18"
   ]
  },
  {
   "cell_type": "code",
   "execution_count": null,
   "metadata": {
    "colab": {
     "base_uri": "https://localhost:8080/",
     "height": 287
    },
    "executionInfo": {
     "elapsed": 25,
     "status": "ok",
     "timestamp": 1674233966798,
     "user": {
      "displayName": "Guilherme Ribeiro",
      "userId": "05746044591492323372"
     },
     "user_tz": 180
    },
    "id": "hau4DO0q3ibG",
    "outputId": "f4f8709a-29da-4317-9a32-35ab3f219898"
   },
   "outputs": [
    {
     "data": {
      "text/plain": [
       "<matplotlib.axes._subplots.AxesSubplot at 0x7f392daf1cd0>"
      ]
     },
     "execution_count": 82,
     "metadata": {},
     "output_type": "execute_result"
    },
    {
     "data": {
      "image/png": "[encoded data removed]",
      "text/plain": [
       "<Figure size 432x288 with 2 Axes>"
      ]
     },
     "metadata": {
      "needs_background": "light"
     },
     "output_type": "display_data"
    }
   ],
   "source": [
    "### Resultado pergunta 12\n",
    "\n",
    "correlation = base_horas_estudos.corr()\n",
    "plot=sns.heatmap(correlation, annot=True, linewidths=.3)\n",
    "plot"
   ]
  },
  {
   "cell_type": "code",
   "execution_count": null,
   "metadata": {
    "colab": {
     "base_uri": "https://localhost:8080/"
    },
    "executionInfo": {
     "elapsed": 389,
     "status": "ok",
     "timestamp": 1674241131519,
     "user": {
      "displayName": "Guilherme Ribeiro",
      "userId": "05746044591492323372"
     },
     "user_tz": 180
    },
    "id": "75te54Ame1uC",
    "outputId": "52448541-36d9-47b7-8165-c1cb0535b6f9"
   },
   "outputs": [
    {
     "data": {
      "text/plain": [
       "0.43528156504806215"
      ]
     },
     "execution_count": 200,
     "metadata": {},
     "output_type": "execute_result"
    }
   ],
   "source": [
    "### Resposta pergunta 13\n",
    "\n",
    "previsao_nota.score(x_horas_estudo,y_nota_avaliacao)"
   ]
  },
  {
   "cell_type": "code",
   "execution_count": null,
   "metadata": {
    "colab": {
     "base_uri": "https://localhost:8080/"
    },
    "executionInfo": {
     "elapsed": 432,
     "status": "ok",
     "timestamp": 1674240956067,
     "user": {
      "displayName": "Guilherme Ribeiro",
      "userId": "05746044591492323372"
     },
     "user_tz": 180
    },
    "id": "EtUPcciHekfc",
    "outputId": "c4c8f67b-494b-4dba-8def-500187d9f5ab"
   },
   "outputs": [
    {
     "data": {
      "text/plain": [
       "12.83868977098035"
      ]
     },
     "execution_count": 197,
     "metadata": {},
     "output_type": "execute_result"
    }
   ],
   "source": [
    "#### Resposta pergunta 14\n",
    "MAE1 =mean_absolute_error(y_nota_avaliacao,previsao_avaliacao)\n",
    "MAE1"
   ]
  },
  {
   "cell_type": "code",
   "execution_count": null,
   "metadata": {
    "colab": {
     "base_uri": "https://localhost:8080/"
    },
    "executionInfo": {
     "elapsed": 498,
     "status": "ok",
     "timestamp": 1674240953545,
     "user": {
      "displayName": "Guilherme Ribeiro",
      "userId": "05746044591492323372"
     },
     "user_tz": 180
    },
    "id": "hWcDmRjOd0Gd",
    "outputId": "81755a2a-a0fa-4dab-9353-242991c16eea"
   },
   "outputs": [
    {
     "data": {
      "text/plain": [
       "270.601202088843"
      ]
     },
     "execution_count": 196,
     "metadata": {},
     "output_type": "execute_result"
    }
   ],
   "source": [
    "#### Resposta pergunta 15\n",
    "MSE1 = mean_squared_error(y_nota_avaliacao,previsao_avaliacao)\n",
    "MSE1"
   ]
  }
 ],
 "metadata": {
  "colab": {
   "authorship_tag": "ABX9TyO2CgHwk5cipX43SxokIXLF",
   "provenance": [],
   "toc_visible": true
  },
  "kernelspec": {
   "display_name": "Python 3 (ipykernel)",
   "language": "python",
   "name": "python3"
  },
  "language_info": {
   "codemirror_mode": {
    "name": "ipython",
    "version": 3
   },
   "file_extension": ".py",
   "mimetype": "text/x-python",
   "name": "python",
   "nbconvert_exporter": "python",
   "pygments_lexer": "ipython3",
   "version": "3.9.13"
  }
 },
 "nbformat": 4,
 "nbformat_minor": 1
}
