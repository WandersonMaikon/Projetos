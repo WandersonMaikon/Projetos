{
 "cells": [
  {
   "cell_type": "code",
   "execution_count": 21,
   "id": "ea91fb7b-70ab-4419-a0e6-da84db7a03e6",
   "metadata": {},
   "outputs": [],
   "source": [
    "import re as reagex\n",
    "import matplotlib.pyplot as plt"
   ]
  },
  {
   "cell_type": "code",
   "execution_count": 20,
   "id": "a2d29dc6-9dcc-43ed-9d9e-33236facc33b",
   "metadata": {},
   "outputs": [
    {
     "name": "stdout",
     "output_type": "stream",
     "text": [
      "re.compile('[0-9]+', re.IGNORECASE)\n"
     ]
    }
   ],
   "source": [
    "my_reagex = reagex.compile(\"[0-9]+\", reagex.I)\n",
    "print(my_reagex)"
   ]
  },
  {
   "cell_type": "code",
   "execution_count": 45,
   "id": "935c2c16-6e1c-4fd0-bc1c-fea9c83c7a66",
   "metadata": {
    "tags": []
   },
   "outputs": [],
   "source": [
    "def double(x):\n",
    "    return x*2\n",
    "def apply_to_one(y):\n",
    "    return f(2)\n"
   ]
  },
  {
   "cell_type": "code",
   "execution_count": 59,
   "id": "1c3de36a-b70f-4dae-99e8-aef92c6b0e69",
   "metadata": {},
   "outputs": [
    {
     "name": "stdout",
     "output_type": "stream",
     "text": [
      "joel grus\n"
     ]
    }
   ],
   "source": [
    "nome1 = \"joel\"\n",
    "nome2 = \"grus\"\n",
    "nome_completo = f\"{nome1} {nome2}\"\n",
    "print(nome_completo)"
   ]
  },
  {
   "cell_type": "code",
   "execution_count": 66,
   "id": "fcc6796e-cec2-43c0-8325-6b985fc8b35b",
   "metadata": {},
   "outputs": [
    {
     "name": "stdout",
     "output_type": "stream",
     "text": [
      "6\n"
     ]
    }
   ],
   "source": [
    "lista = [1,2,3]\n",
    "lista2 = [\"Maikon\",0.1,True]\n",
    "listas = [lista, lista2,[]]\n",
    "contagem_lista = len(lista)\n",
    "soma_de_lista = sum(lista)\n",
    "print(soma_de_lista)"
   ]
  },
  {
   "cell_type": "code",
   "execution_count": 74,
   "id": "f644a01a-ee9c-4b47-a564-f9b292ca9b1e",
   "metadata": {},
   "outputs": [
    {
     "name": "stdout",
     "output_type": "stream",
     "text": [
      "0\n",
      "1\n",
      "9\n",
      "8\n",
      "[-1, 1, 2, 3, 4, 5, 6, 7, 8, 9]\n"
     ]
    }
   ],
   "source": [
    "x = [0,1,2,3,4,5,6,7,8,9]\n",
    "zero = x[0]\n",
    "print(zero)\n",
    "um = x[1]\n",
    "print(um)\n",
    "nove = x[-1]\n",
    "print(nove)\n",
    "oito = x[-2]\n",
    "print(oito)\n",
    "x[0] = -1\n",
    "print(x)"
   ]
  },
  {
   "cell_type": "code",
   "execution_count": 87,
   "id": "92f5aaff-553c-420a-a3c9-418c09aff7ac",
   "metadata": {},
   "outputs": [
    {
     "name": "stdout",
     "output_type": "stream",
     "text": [
      "[-1, 1, 2]\n",
      "[3, 4, 5, 6, 7, 8, 9]\n",
      "[-1, 1, 2, 3, 4]\n",
      "[7, 8, 9]\n",
      "[1, 2, 3, 4, 5, 6, 7, 8]\n",
      "[-1, 1, 2, 3, 4, 5, 6, 7, 8, 9]\n"
     ]
    }
   ],
   "source": [
    "#Considera apenas os 3 primeiros\n",
    "primeiro_tres = x[:3]\n",
    "print(primeiro_tres)\n",
    "#Desconsidera os três primeiros\n",
    "tres_primeiros = x[3:]\n",
    "print(tres_ultimo)\n",
    "#Busca o intervalo das posições 1 a 5\n",
    "intervado = x[0:5]\n",
    "print(intervado)\n",
    "#Busca os 3 ultimos\n",
    "tres_ultimos = x[-3:]\n",
    "print(tres_ultimos)\n",
    "#Desconsidera o primeiro e o ultimo\n",
    "menos_p_ultimo = x[1:-1]\n",
    "print(menos_p_ultimo)\n",
    "ss = x[:]"
   ]
  },
  {
   "cell_type": "code",
   "execution_count": 92,
   "id": "38af061b-3e29-41d7-be96-6b6f884f5529",
   "metadata": {},
   "outputs": [
    {
     "name": "stdout",
     "output_type": "stream",
     "text": [
      "[-1, 3, 6, 9]\n"
     ]
    },
    {
     "data": {
      "text/plain": [
       "False"
      ]
     },
     "execution_count": 92,
     "metadata": {},
     "output_type": "execute_result"
    }
   ],
   "source": [
    "#Pula de 3 em 3\n",
    "intervalo_impar = x[::3]\n",
    "print(intervalo_impar)\n",
    "1 in [1,2,3] \n",
    "0 in [1,2,3]"
   ]
  },
  {
   "cell_type": "code",
   "execution_count": 95,
   "id": "c890eb20-a50d-48ee-b510-9090e5d93323",
   "metadata": {},
   "outputs": [
    {
     "name": "stdout",
     "output_type": "stream",
     "text": [
      "[1, 2, 3, 4, 5, 6]\n",
      "[1, 2, 3, 4, 5, 6, 0]\n"
     ]
    }
   ],
   "source": [
    "#Concatenação\n",
    "x = [1,2,3]\n",
    "x.extend([4,5,6])\n",
    "print(x)\n",
    "#Acrescenta o valor unico dentro da lista \n",
    "x.append(0)\n",
    "print(x)"
   ]
  },
  {
   "cell_type": "code",
   "execution_count": 111,
   "id": "b79fbe0a-d1ac-4e57-822a-5e2f375bfc52",
   "metadata": {},
   "outputs": [
    {
     "name": "stdout",
     "output_type": "stream",
     "text": [
      "45\n",
      "Não existe a kate\n"
     ]
    }
   ],
   "source": [
    "# Dicionários, é tipo uma associação entre valores e chaves\n",
    "valor = {}\n",
    "valor2 = dict()\n",
    "grades = {\"Joel\":80, \n",
    "          \"Tim\":95, \n",
    "         \"Joel\":45,\n",
    "         \"Wanderson\":30,\n",
    "         \"Maria\":14}\n",
    "joel_grades = grades[\"Joel\"]\n",
    "print(joel_grades)\n",
    "# Tentando localizar o valor kate, se existe, retorna o valor, senão, o erro\n",
    "try:\n",
    "    kates_grade = grades[\"Kate\"]\n",
    "except KeyError:\n",
    "    print(\"Não existe a kate\")"
   ]
  },
  {
   "cell_type": "code",
   "execution_count": 110,
   "id": "4f1d0992-9db8-4676-b37f-259bc28d52a5",
   "metadata": {},
   "outputs": [
    {
     "name": "stdout",
     "output_type": "stream",
     "text": [
      "True\n",
      "False\n",
      "45\n"
     ]
    }
   ],
   "source": [
    "joel = \"Joel\" in grades\n",
    "print(joel)\n",
    "Kate = \"Kate\" in grades\n",
    "print(Kate)\n",
    "\n",
    "#teste com o get\n",
    "teste_get = grades.get(\"Joel\",0)\n",
    "print(teste_get)"
   ]
  },
  {
   "cell_type": "code",
   "execution_count": 119,
   "id": "25c9c59f-0e9d-4a6d-839a-93829ce42c48",
   "metadata": {},
   "outputs": [
    {
     "name": "stdout",
     "output_type": "stream",
     "text": [
      "{}\n"
     ]
    }
   ],
   "source": [
    "#Defaultdict\n",
    "contagem = {}\n",
    "for word in contagem:\n",
    "    if word in contagem:\n",
    "        contagem[word]+=1\n",
    "        print(contagem)\n",
    "    else:\n",
    "        contagem[word] = 1\n",
    "        print(contagem)\n"
   ]
  },
  {
   "cell_type": "code",
   "execution_count": 128,
   "id": "5d5fadbf-c4f8-43cc-ab3d-39da42848350",
   "metadata": {},
   "outputs": [
    {
     "name": "stdout",
     "output_type": "stream",
     "text": [
      "Counter({0: 2, 'Maikon': 2, 1: 1, 2: 1, 9: 1})\n"
     ]
    }
   ],
   "source": [
    "#contador \n",
    "from collections import Counter\n",
    "c = Counter([0,1,2,9,0,\"Maikon\",\"Maikon\"])\n",
    "print(c)"
   ]
  },
  {
   "cell_type": "code",
   "execution_count": 142,
   "id": "a6c10559-d92b-4b9a-81db-b75aeb55437c",
   "metadata": {},
   "outputs": [
    {
     "name": "stdout",
     "output_type": "stream",
     "text": [
      "{1}\n",
      "{1, 2}\n",
      "{1, 2}\n",
      "3\n",
      "True\n",
      "True\n"
     ]
    }
   ],
   "source": [
    "#Adicionando conuntos\n",
    "conjunto = {2,3,5,7}\n",
    "s = set()\n",
    "s.add(1)\n",
    "print(s)\n",
    "s.add(2)\n",
    "print(s)\n",
    "s.add(2)\n",
    "print(s)\n",
    "s.add(3)\n",
    "x = len(s)\n",
    "print(x)\n",
    "y = 2 in s\n",
    "print(y)\n",
    "z = 3 in s\n",
    "print(z)"
   ]
  },
  {
   "cell_type": "code",
   "execution_count": 145,
   "id": "b2be2e65-6452-40a8-a9d7-eff4e8496f37",
   "metadata": {},
   "outputs": [
    {
     "name": "stdout",
     "output_type": "stream",
     "text": [
      "0\n",
      "1\n",
      "2\n",
      "3\n",
      "4\n",
      "5\n",
      "6\n",
      "7\n",
      "8\n",
      "9\n"
     ]
    }
   ],
   "source": [
    "#Fluxo de controle\n",
    "for x in range(10):\n",
    "    print(x)"
   ]
  },
  {
   "cell_type": "code",
   "execution_count": 157,
   "id": "54c5bb9e-8387-42e6-8def-013a95481648",
   "metadata": {},
   "outputs": [
    {
     "name": "stdout",
     "output_type": "stream",
     "text": [
      "[1, 2, 2, 3, 5, 6, 9]\n",
      "[1, 2, 2, 3, 5, 6, 9]\n",
      "[9, 6, 5, 3, 2, 2, 1]\n"
     ]
    }
   ],
   "source": [
    "#Classificação - Função sort ou sorted colocam em ordem crescente os numeros na lista\n",
    "n = [5,2,6,1,2,3,9]\n",
    "organizado = sorted(n)\n",
    "print(organizado)\n",
    "n.sort()\n",
    "print(n)\n",
    "# Para colocar em ordem decrescente, basta chamar reverse = true\n",
    "decrescente = sorted(n, reverse=True)\n",
    "print(decrescente)"
   ]
  },
  {
   "cell_type": "code",
   "execution_count": 166,
   "id": "b4536b64-4377-4a3d-9993-252f442eaacf",
   "metadata": {},
   "outputs": [
    {
     "name": "stdout",
     "output_type": "stream",
     "text": [
      "9\n"
     ]
    }
   ],
   "source": [
    "#Teste automatizado com asserção\n",
    "assert 1 + 1 == 2\n",
    "assert 1+1 == 2, \"1 + 1 deveria ser igual a 2 e não diferente\"\n",
    "\n",
    "def valor(x):\n",
    "    return min(x)\n",
    "    assert maior_valor([10,20,5,50])==5\n",
    "    assert maior_valor([1,0,-1,2])==-1\n",
    "print(x)"
   ]
  }
 ],
 "metadata": {
  "kernelspec": {
   "display_name": "Python 3 (ipykernel)",
   "language": "python",
   "name": "python3"
  },
  "language_info": {
   "codemirror_mode": {
    "name": "ipython",
    "version": 3
   },
   "file_extension": ".py",
   "mimetype": "text/x-python",
   "name": "python",
   "nbconvert_exporter": "python",
   "pygments_lexer": "ipython3",
   "version": "3.9.13"
  }
 },
 "nbformat": 4,
 "nbformat_minor": 5
}
